{
 "cells": [
  {
   "cell_type": "code",
   "execution_count": 9,
   "metadata": {
    "collapsed": true
   },
   "outputs": [],
   "source": [
    "import matplotlib.pyplot as plt\n",
    "import pandas as pd\n",
    "import mplleaflet as ml\n",
    "import requests"
   ]
  },
  {
   "cell_type": "code",
   "execution_count": null,
   "metadata": {
    "collapsed": true
   },
   "outputs": [],
   "source": [
    "Flying from Miami to DC, we decided to play with the in flight wifi.\n",
    "\n",
    "American Airlines gives you the following json interface, we are going to try to put it on a map."
   ]
  },
  {
   "cell_type": "code",
   "execution_count": null,
   "metadata": {
    "collapsed": true
   },
   "outputs": [],
   "source": [
    "At first we had trouble getting connected, the solution was to manually insert the DNS entry 172.19.134.2"
   ]
  },
  {
   "cell_type": "code",
   "execution_count": 8,
   "metadata": {
    "collapsed": false
   },
   "outputs": [
    {
     "name": "stdout",
     "output_type": "stream",
     "text": [
      "{\n",
      "    \"Response\": {\n",
      "        \"flightInfo\": {\n",
      "            \"HSpeed\": 239.3246,\n",
      "            \"VSpeed\": -0.56896,\n",
      "            \"abpVersion\": \"4.0.4\",\n",
      "            \"acpuVersion\": \"6.4.0\",\n",
      "            \"airlineCode\": \"AAL\",\n",
      "            \"airlineCodeIata\": \"AA\",\n",
      "            \"airlineName\": \"American Airlines\",\n",
      "            \"altitude\": 9443.923,\n",
      "            \"departureAirportCode\": \"KMIA\",\n",
      "            \"departureAirportCodeIata\": \"MIA\",\n",
      "            \"destination\": \"DCA\",\n",
      "            \"destinationAirportCode\": \"KDCA\",\n",
      "            \"destinationAirportCodeIata\": \"DCA\",\n",
      "            \"expectedArrival\": \"2016-06-06T13:28:00Z\",\n",
      "            \"flightNumberAlpha\": \"AAL\",\n",
      "            \"flightNumberInfo\": \"AAL1359\",\n",
      "            \"flightNumberNumeric\": 1359,\n",
      "            \"latitude\": 28.011,\n",
      "            \"localTime\": \"2016-06-06T11:36:03.548Z0:0\",\n",
      "            \"longitude\": -81.1471,\n",
      "            \"origin\": \"MIA\",\n",
      "            \"tailNumber\": \"N905AN\",\n",
      "            \"utcTime\": \"2016-06-06T11:36:03.548Z\",\n",
      "            \"videoService\": false\n",
      "        },\n",
      "        \"gogoFacts\": \"The first female flight attendants in 1930 were required to be registered nurses. In addition to serving the cabin, they took tickets, loaded luggage, fueled the plane, and even helped pilots push the aircraft into the hangar.\",\n",
      "        \"serviceInfo\": {\n",
      "            \"quality\": \"Good\",\n",
      "            \"remaining\": 28860,\n",
      "            \"service\": \"Active\"\n",
      "        },\n",
      "        \"status\": 200\n",
      "    }\n",
      "}\n"
     ]
    },
    {
     "name": "stderr",
     "output_type": "stream",
     "text": [
      "  % Total    % Received % Xferd  Average Speed   Time    Time     Time  Current\n",
      "                                 Dload  Upload   Total   Spent    Left  Speed\n",
      "\r",
      "  0     0    0     0    0     0      0      0 --:--:-- --:--:-- --:--:--     0\r",
      "100   978  100   978    0     0   8676      0 --:--:-- --:--:-- --:--:--  8732\n"
     ]
    }
   ],
   "source": [
    "%%bash\n",
    "curl http://airborne.gogoinflight.com/abp/ws/absServices/statusTray | python -m json.tool"
   ]
  },
  {
   "cell_type": "code",
   "execution_count": null,
   "metadata": {
    "collapsed": true
   },
   "outputs": [],
   "source": [
    "    "
   ]
  },
  {
   "cell_type": "code",
   "execution_count": null,
   "metadata": {
    "collapsed": true
   },
   "outputs": [],
   "source": []
  }
 ],
 "metadata": {
  "kernelspec": {
   "display_name": "Python 2",
   "language": "python",
   "name": "python2"
  },
  "language_info": {
   "codemirror_mode": {
    "name": "ipython",
    "version": 2
   },
   "file_extension": ".py",
   "mimetype": "text/x-python",
   "name": "python",
   "nbconvert_exporter": "python",
   "pygments_lexer": "ipython2",
   "version": "2.7.10"
  }
 },
 "nbformat": 4,
 "nbformat_minor": 0
}
