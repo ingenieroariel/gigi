{
 "cells": [
  {
   "cell_type": "code",
   "execution_count": 66,
   "metadata": {
    "collapsed": false
   },
   "outputs": [],
   "source": [
    "import matplotlib.pyplot as plt\n",
    "import pandas as pd\n",
    "import mplleaflet as ml\n",
    "import requests\n",
    "import fiona\n",
    "%matplotlib inline"
   ]
  },
  {
   "cell_type": "markdown",
   "metadata": {},
   "source": [
    "Flying from Miami to DC, we decided to play with the in flight wifi.\n",
    "\n",
    "American Airlines gives you the following json interface, we are going to try to put it on a map."
   ]
  },
  {
   "cell_type": "markdown",
   "metadata": {},
   "source": [
    "At first we had trouble getting connected, the solution was to manually insert the DNS entry 172.19.134.2"
   ]
  },
  {
   "cell_type": "code",
   "execution_count": 2,
   "metadata": {
    "collapsed": false
   },
   "outputs": [
    {
     "name": "stdout",
     "output_type": "stream",
     "text": [
      "{\n",
      "    \"Response\": {\n",
      "        \"flightInfo\": {\n",
      "            \"HSpeed\": 256.557,\n",
      "            \"VSpeed\": -0.77216,\n",
      "            \"abpVersion\": \"4.0.4\",\n",
      "            \"acpuVersion\": \"6.4.0\",\n",
      "            \"airlineCode\": \"AAL\",\n",
      "            \"airlineCodeIata\": \"AA\",\n",
      "            \"airlineName\": \"American Airlines\",\n",
      "            \"altitude\": 9443.618,\n",
      "            \"departureAirportCode\": \"KMIA\",\n",
      "            \"departureAirportCodeIata\": \"MIA\",\n",
      "            \"destination\": \"DCA\",\n",
      "            \"destinationAirportCode\": \"KDCA\",\n",
      "            \"destinationAirportCodeIata\": \"DCA\",\n",
      "            \"expectedArrival\": \"2016-06-06T13:28:00Z\",\n",
      "            \"flightNumberAlpha\": \"AAL\",\n",
      "            \"flightNumberInfo\": \"AAL1359\",\n",
      "            \"flightNumberNumeric\": 1359,\n",
      "            \"latitude\": 33.314,\n",
      "            \"localTime\": \"2016-06-06T12:18:03.336Z0:0\",\n",
      "            \"longitude\": -79.9612,\n",
      "            \"origin\": \"MIA\",\n",
      "            \"tailNumber\": \"N905AN\",\n",
      "            \"utcTime\": \"2016-06-06T12:18:03.336Z\",\n",
      "            \"videoService\": false\n",
      "        },\n",
      "        \"gogoFacts\": \"The Wright brothers\\\\' first flight (120 feet) could have taken place within the economy section of a Boeing 747-400.\",\n",
      "        \"serviceInfo\": {\n",
      "            \"quality\": \"Good\",\n",
      "            \"remaining\": 26460,\n",
      "            \"service\": \"Active\"\n",
      "        },\n",
      "        \"status\": 200\n",
      "    }\n",
      "}\n"
     ]
    },
    {
     "name": "stderr",
     "output_type": "stream",
     "text": [
      "  % Total    % Received % Xferd  Average Speed   Time    Time     Time  Current\n",
      "                                 Dload  Upload   Total   Spent    Left  Speed\n",
      "\r",
      "  0     0    0     0    0     0      0      0 --:--:-- --:--:-- --:--:--     0\r",
      "  0     0    0     0    0     0      0      0 --:--:--  0:00:01 --:--:--     0\r",
      "100   868  100   868    0     0    536      0  0:00:01  0:00:01 --:--:--   536\r",
      "100   868  100   868    0     0    536      0  0:00:01  0:00:01 --:--:--   536\n"
     ]
    }
   ],
   "source": [
    "%%bash\n",
    "curl http://airborne.gogoinflight.com/abp/ws/absServices/statusTray | python -m json.tool"
   ]
  },
  {
   "cell_type": "code",
   "execution_count": 3,
   "metadata": {
    "collapsed": true
   },
   "outputs": [],
   "source": [
    "url = 'http://airborne.gogoinflight.com/abp/ws/absServices/statusTray'\n",
    "r = requests.get(url)"
   ]
  },
  {
   "cell_type": "code",
   "execution_count": 4,
   "metadata": {
    "collapsed": false
   },
   "outputs": [
    {
     "data": {
      "text/plain": [
       "{u'Response': {u'flightInfo': {u'HSpeed': 256.557,\n",
       "   u'VSpeed': -0.77216,\n",
       "   u'abpVersion': u'4.0.4',\n",
       "   u'acpuVersion': u'6.4.0',\n",
       "   u'airlineCode': u'AAL',\n",
       "   u'airlineCodeIata': u'AA',\n",
       "   u'airlineName': u'American Airlines',\n",
       "   u'altitude': 9443.618,\n",
       "   u'departureAirportCode': u'KMIA',\n",
       "   u'departureAirportCodeIata': u'MIA',\n",
       "   u'destination': u'DCA',\n",
       "   u'destinationAirportCode': u'KDCA',\n",
       "   u'destinationAirportCodeIata': u'DCA',\n",
       "   u'expectedArrival': u'2016-06-06T13:28:00Z',\n",
       "   u'flightNumberAlpha': u'AAL',\n",
       "   u'flightNumberInfo': u'AAL1359',\n",
       "   u'flightNumberNumeric': 1359,\n",
       "   u'latitude': 33.314,\n",
       "   u'localTime': u'2016-06-06T12:18:03.336Z0:0',\n",
       "   u'longitude': -79.9612,\n",
       "   u'origin': u'MIA',\n",
       "   u'tailNumber': u'N905AN',\n",
       "   u'utcTime': u'2016-06-06T12:18:03.336Z',\n",
       "   u'videoService': False},\n",
       "  u'gogoFacts': u'In 1973, AA became the first major airline to employ a female pilot when Bonnie Tiburzi was hired to fly Boeing 727s.',\n",
       "  u'serviceInfo': {u'quality': u'Good',\n",
       "   u'remaining': 26460,\n",
       "   u'service': u'Active'},\n",
       "  u'status': 200}}"
      ]
     },
     "execution_count": 4,
     "metadata": {},
     "output_type": "execute_result"
    }
   ],
   "source": [
    "r.json()"
   ]
  },
  {
   "cell_type": "code",
   "execution_count": 5,
   "metadata": {
    "collapsed": false
   },
   "outputs": [
    {
     "data": {
      "text/html": [
       "<div>\n",
       "<table border=\"1\" class=\"dataframe\">\n",
       "  <thead>\n",
       "    <tr style=\"text-align: right;\">\n",
       "      <th></th>\n",
       "      <th>Response</th>\n",
       "    </tr>\n",
       "  </thead>\n",
       "  <tbody>\n",
       "    <tr>\n",
       "      <th>flightInfo</th>\n",
       "      <td>{u'origin': u'MIA', u'abpVersion': u'4.0.4', u...</td>\n",
       "    </tr>\n",
       "    <tr>\n",
       "      <th>gogoFacts</th>\n",
       "      <td>In 1973, AA became the first major airline to ...</td>\n",
       "    </tr>\n",
       "    <tr>\n",
       "      <th>serviceInfo</th>\n",
       "      <td>{u'quality': u'Good', u'remaining': 26460, u's...</td>\n",
       "    </tr>\n",
       "    <tr>\n",
       "      <th>status</th>\n",
       "      <td>200</td>\n",
       "    </tr>\n",
       "  </tbody>\n",
       "</table>\n",
       "</div>"
      ],
      "text/plain": [
       "                                                      Response\n",
       "flightInfo   {u'origin': u'MIA', u'abpVersion': u'4.0.4', u...\n",
       "gogoFacts    In 1973, AA became the first major airline to ...\n",
       "serviceInfo  {u'quality': u'Good', u'remaining': 26460, u's...\n",
       "status                                                     200"
      ]
     },
     "execution_count": 5,
     "metadata": {},
     "output_type": "execute_result"
    }
   ],
   "source": [
    "df = pd.read_json(r.text)\n",
    "df"
   ]
  },
  {
   "cell_type": "code",
   "execution_count": 6,
   "metadata": {
    "collapsed": false
   },
   "outputs": [],
   "source": [
    "info = pd.io.json.json_normalize(df['Response']['flightInfo'])"
   ]
  },
  {
   "cell_type": "code",
   "execution_count": 7,
   "metadata": {
    "collapsed": false
   },
   "outputs": [
    {
     "data": {
      "text/html": [
       "<div>\n",
       "<table border=\"1\" class=\"dataframe\">\n",
       "  <thead>\n",
       "    <tr style=\"text-align: right;\">\n",
       "      <th></th>\n",
       "      <th>HSpeed</th>\n",
       "      <th>VSpeed</th>\n",
       "      <th>abpVersion</th>\n",
       "      <th>acpuVersion</th>\n",
       "      <th>airlineCode</th>\n",
       "      <th>airlineCodeIata</th>\n",
       "      <th>airlineName</th>\n",
       "      <th>altitude</th>\n",
       "      <th>departureAirportCode</th>\n",
       "      <th>departureAirportCodeIata</th>\n",
       "      <th>...</th>\n",
       "      <th>flightNumberAlpha</th>\n",
       "      <th>flightNumberInfo</th>\n",
       "      <th>flightNumberNumeric</th>\n",
       "      <th>latitude</th>\n",
       "      <th>localTime</th>\n",
       "      <th>longitude</th>\n",
       "      <th>origin</th>\n",
       "      <th>tailNumber</th>\n",
       "      <th>utcTime</th>\n",
       "      <th>videoService</th>\n",
       "    </tr>\n",
       "  </thead>\n",
       "  <tbody>\n",
       "    <tr>\n",
       "      <th>0</th>\n",
       "      <td>256.557</td>\n",
       "      <td>-0.77216</td>\n",
       "      <td>4.0.4</td>\n",
       "      <td>6.4.0</td>\n",
       "      <td>AAL</td>\n",
       "      <td>AA</td>\n",
       "      <td>American Airlines</td>\n",
       "      <td>9443.618</td>\n",
       "      <td>KMIA</td>\n",
       "      <td>MIA</td>\n",
       "      <td>...</td>\n",
       "      <td>AAL</td>\n",
       "      <td>AAL1359</td>\n",
       "      <td>1359</td>\n",
       "      <td>33.314</td>\n",
       "      <td>2016-06-06T12:18:03.336Z0:0</td>\n",
       "      <td>-79.9612</td>\n",
       "      <td>MIA</td>\n",
       "      <td>N905AN</td>\n",
       "      <td>2016-06-06T12:18:03.336Z</td>\n",
       "      <td>False</td>\n",
       "    </tr>\n",
       "  </tbody>\n",
       "</table>\n",
       "<p>1 rows × 24 columns</p>\n",
       "</div>"
      ],
      "text/plain": [
       "    HSpeed   VSpeed abpVersion acpuVersion airlineCode airlineCodeIata  \\\n",
       "0  256.557 -0.77216      4.0.4       6.4.0         AAL              AA   \n",
       "\n",
       "         airlineName  altitude departureAirportCode departureAirportCodeIata  \\\n",
       "0  American Airlines  9443.618                 KMIA                      MIA   \n",
       "\n",
       "       ...      flightNumberAlpha flightNumberInfo flightNumberNumeric  \\\n",
       "0      ...                    AAL          AAL1359                1359   \n",
       "\n",
       "  latitude                    localTime longitude  origin  tailNumber  \\\n",
       "0   33.314  2016-06-06T12:18:03.336Z0:0  -79.9612     MIA      N905AN   \n",
       "\n",
       "                    utcTime  videoService  \n",
       "0  2016-06-06T12:18:03.336Z         False  \n",
       "\n",
       "[1 rows x 24 columns]"
      ]
     },
     "execution_count": 7,
     "metadata": {},
     "output_type": "execute_result"
    }
   ],
   "source": [
    "info"
   ]
  },
  {
   "cell_type": "code",
   "execution_count": 8,
   "metadata": {
    "collapsed": true
   },
   "outputs": [],
   "source": [
    "# Let's make a funcion that takes in this data frame and appends the current data\n",
    "def flight(data=None, url='http://airborne.gogoinflight.com/abp/ws/absServices/statusTray'):\n",
    "    '''Returns a modified dataframe object'''\n",
    "    r = requests.get(url)\n",
    "    \n",
    "    new_data = pd.read_json(r.text)\n",
    "\n",
    "    info = pd.io.json.json_normalize(new_data['Response']['flightInfo'])\n",
    "        \n",
    "    if data is None:\n",
    "        data = info\n",
    "    else:\n",
    "        data = pd.concat([data, info])\n",
    "        \n",
    "    data.set_index('utcTime')\n",
    "\n",
    "    return data"
   ]
  },
  {
   "cell_type": "code",
   "execution_count": 9,
   "metadata": {
    "collapsed": false
   },
   "outputs": [],
   "source": [
    "df = flight()"
   ]
  },
  {
   "cell_type": "code",
   "execution_count": 10,
   "metadata": {
    "collapsed": false
   },
   "outputs": [
    {
     "data": {
      "text/html": [
       "<div>\n",
       "<table border=\"1\" class=\"dataframe\">\n",
       "  <thead>\n",
       "    <tr style=\"text-align: right;\">\n",
       "      <th></th>\n",
       "      <th>HSpeed</th>\n",
       "      <th>VSpeed</th>\n",
       "      <th>abpVersion</th>\n",
       "      <th>acpuVersion</th>\n",
       "      <th>airlineCode</th>\n",
       "      <th>airlineCodeIata</th>\n",
       "      <th>airlineName</th>\n",
       "      <th>altitude</th>\n",
       "      <th>departureAirportCode</th>\n",
       "      <th>departureAirportCodeIata</th>\n",
       "      <th>...</th>\n",
       "      <th>flightNumberAlpha</th>\n",
       "      <th>flightNumberInfo</th>\n",
       "      <th>flightNumberNumeric</th>\n",
       "      <th>latitude</th>\n",
       "      <th>localTime</th>\n",
       "      <th>longitude</th>\n",
       "      <th>origin</th>\n",
       "      <th>tailNumber</th>\n",
       "      <th>utcTime</th>\n",
       "      <th>videoService</th>\n",
       "    </tr>\n",
       "  </thead>\n",
       "  <tbody>\n",
       "    <tr>\n",
       "      <th>0</th>\n",
       "      <td>256.557</td>\n",
       "      <td>-0.77216</td>\n",
       "      <td>4.0.4</td>\n",
       "      <td>6.4.0</td>\n",
       "      <td>AAL</td>\n",
       "      <td>AA</td>\n",
       "      <td>American Airlines</td>\n",
       "      <td>9443.618</td>\n",
       "      <td>KMIA</td>\n",
       "      <td>MIA</td>\n",
       "      <td>...</td>\n",
       "      <td>AAL</td>\n",
       "      <td>AAL1359</td>\n",
       "      <td>1359</td>\n",
       "      <td>33.314</td>\n",
       "      <td>2016-06-06T12:18:03.336Z0:0</td>\n",
       "      <td>-79.9612</td>\n",
       "      <td>MIA</td>\n",
       "      <td>N905AN</td>\n",
       "      <td>2016-06-06T12:18:03.336Z</td>\n",
       "      <td>False</td>\n",
       "    </tr>\n",
       "  </tbody>\n",
       "</table>\n",
       "<p>1 rows × 24 columns</p>\n",
       "</div>"
      ],
      "text/plain": [
       "    HSpeed   VSpeed abpVersion acpuVersion airlineCode airlineCodeIata  \\\n",
       "0  256.557 -0.77216      4.0.4       6.4.0         AAL              AA   \n",
       "\n",
       "         airlineName  altitude departureAirportCode departureAirportCodeIata  \\\n",
       "0  American Airlines  9443.618                 KMIA                      MIA   \n",
       "\n",
       "       ...      flightNumberAlpha flightNumberInfo flightNumberNumeric  \\\n",
       "0      ...                    AAL          AAL1359                1359   \n",
       "\n",
       "  latitude                    localTime longitude  origin  tailNumber  \\\n",
       "0   33.314  2016-06-06T12:18:03.336Z0:0  -79.9612     MIA      N905AN   \n",
       "\n",
       "                    utcTime  videoService  \n",
       "0  2016-06-06T12:18:03.336Z         False  \n",
       "\n",
       "[1 rows x 24 columns]"
      ]
     },
     "execution_count": 10,
     "metadata": {},
     "output_type": "execute_result"
    }
   ],
   "source": [
    "df"
   ]
  },
  {
   "cell_type": "code",
   "execution_count": 11,
   "metadata": {
    "collapsed": true
   },
   "outputs": [],
   "source": [
    "df = flight(data=df)"
   ]
  },
  {
   "cell_type": "code",
   "execution_count": 12,
   "metadata": {
    "collapsed": false
   },
   "outputs": [
    {
     "data": {
      "text/html": [
       "<div>\n",
       "<table border=\"1\" class=\"dataframe\">\n",
       "  <thead>\n",
       "    <tr style=\"text-align: right;\">\n",
       "      <th></th>\n",
       "      <th>HSpeed</th>\n",
       "      <th>VSpeed</th>\n",
       "      <th>abpVersion</th>\n",
       "      <th>acpuVersion</th>\n",
       "      <th>airlineCode</th>\n",
       "      <th>airlineCodeIata</th>\n",
       "      <th>airlineName</th>\n",
       "      <th>altitude</th>\n",
       "      <th>departureAirportCode</th>\n",
       "      <th>departureAirportCodeIata</th>\n",
       "      <th>...</th>\n",
       "      <th>flightNumberAlpha</th>\n",
       "      <th>flightNumberInfo</th>\n",
       "      <th>flightNumberNumeric</th>\n",
       "      <th>latitude</th>\n",
       "      <th>localTime</th>\n",
       "      <th>longitude</th>\n",
       "      <th>origin</th>\n",
       "      <th>tailNumber</th>\n",
       "      <th>utcTime</th>\n",
       "      <th>videoService</th>\n",
       "    </tr>\n",
       "  </thead>\n",
       "  <tbody>\n",
       "    <tr>\n",
       "      <th>0</th>\n",
       "      <td>256.557</td>\n",
       "      <td>-0.77216</td>\n",
       "      <td>4.0.4</td>\n",
       "      <td>6.4.0</td>\n",
       "      <td>AAL</td>\n",
       "      <td>AA</td>\n",
       "      <td>American Airlines</td>\n",
       "      <td>9443.618</td>\n",
       "      <td>KMIA</td>\n",
       "      <td>MIA</td>\n",
       "      <td>...</td>\n",
       "      <td>AAL</td>\n",
       "      <td>AAL1359</td>\n",
       "      <td>1359</td>\n",
       "      <td>33.314</td>\n",
       "      <td>2016-06-06T12:18:03.336Z0:0</td>\n",
       "      <td>-79.9612</td>\n",
       "      <td>MIA</td>\n",
       "      <td>N905AN</td>\n",
       "      <td>2016-06-06T12:18:03.336Z</td>\n",
       "      <td>False</td>\n",
       "    </tr>\n",
       "    <tr>\n",
       "      <th>0</th>\n",
       "      <td>256.557</td>\n",
       "      <td>-0.77216</td>\n",
       "      <td>4.0.4</td>\n",
       "      <td>6.4.0</td>\n",
       "      <td>AAL</td>\n",
       "      <td>AA</td>\n",
       "      <td>American Airlines</td>\n",
       "      <td>9443.618</td>\n",
       "      <td>KMIA</td>\n",
       "      <td>MIA</td>\n",
       "      <td>...</td>\n",
       "      <td>AAL</td>\n",
       "      <td>AAL1359</td>\n",
       "      <td>1359</td>\n",
       "      <td>33.314</td>\n",
       "      <td>2016-06-06T12:18:03.336Z0:0</td>\n",
       "      <td>-79.9612</td>\n",
       "      <td>MIA</td>\n",
       "      <td>N905AN</td>\n",
       "      <td>2016-06-06T12:18:03.336Z</td>\n",
       "      <td>False</td>\n",
       "    </tr>\n",
       "  </tbody>\n",
       "</table>\n",
       "<p>2 rows × 24 columns</p>\n",
       "</div>"
      ],
      "text/plain": [
       "    HSpeed   VSpeed abpVersion acpuVersion airlineCode airlineCodeIata  \\\n",
       "0  256.557 -0.77216      4.0.4       6.4.0         AAL              AA   \n",
       "0  256.557 -0.77216      4.0.4       6.4.0         AAL              AA   \n",
       "\n",
       "         airlineName  altitude departureAirportCode departureAirportCodeIata  \\\n",
       "0  American Airlines  9443.618                 KMIA                      MIA   \n",
       "0  American Airlines  9443.618                 KMIA                      MIA   \n",
       "\n",
       "       ...      flightNumberAlpha flightNumberInfo flightNumberNumeric  \\\n",
       "0      ...                    AAL          AAL1359                1359   \n",
       "0      ...                    AAL          AAL1359                1359   \n",
       "\n",
       "  latitude                    localTime longitude  origin  tailNumber  \\\n",
       "0   33.314  2016-06-06T12:18:03.336Z0:0  -79.9612     MIA      N905AN   \n",
       "0   33.314  2016-06-06T12:18:03.336Z0:0  -79.9612     MIA      N905AN   \n",
       "\n",
       "                    utcTime  videoService  \n",
       "0  2016-06-06T12:18:03.336Z         False  \n",
       "0  2016-06-06T12:18:03.336Z         False  \n",
       "\n",
       "[2 rows x 24 columns]"
      ]
     },
     "execution_count": 12,
     "metadata": {},
     "output_type": "execute_result"
    }
   ],
   "source": [
    "df"
   ]
  },
  {
   "cell_type": "code",
   "execution_count": 13,
   "metadata": {
    "collapsed": false
   },
   "outputs": [
    {
     "data": {
      "text/html": [
       "<div>\n",
       "<table border=\"1\" class=\"dataframe\">\n",
       "  <thead>\n",
       "    <tr style=\"text-align: right;\">\n",
       "      <th></th>\n",
       "      <th>HSpeed</th>\n",
       "      <th>VSpeed</th>\n",
       "      <th>abpVersion</th>\n",
       "      <th>acpuVersion</th>\n",
       "      <th>airlineCode</th>\n",
       "      <th>airlineCodeIata</th>\n",
       "      <th>airlineName</th>\n",
       "      <th>altitude</th>\n",
       "      <th>departureAirportCode</th>\n",
       "      <th>departureAirportCodeIata</th>\n",
       "      <th>...</th>\n",
       "      <th>expectedArrival</th>\n",
       "      <th>flightNumberAlpha</th>\n",
       "      <th>flightNumberInfo</th>\n",
       "      <th>flightNumberNumeric</th>\n",
       "      <th>latitude</th>\n",
       "      <th>localTime</th>\n",
       "      <th>longitude</th>\n",
       "      <th>origin</th>\n",
       "      <th>tailNumber</th>\n",
       "      <th>videoService</th>\n",
       "    </tr>\n",
       "    <tr>\n",
       "      <th>utcTime</th>\n",
       "      <th></th>\n",
       "      <th></th>\n",
       "      <th></th>\n",
       "      <th></th>\n",
       "      <th></th>\n",
       "      <th></th>\n",
       "      <th></th>\n",
       "      <th></th>\n",
       "      <th></th>\n",
       "      <th></th>\n",
       "      <th></th>\n",
       "      <th></th>\n",
       "      <th></th>\n",
       "      <th></th>\n",
       "      <th></th>\n",
       "      <th></th>\n",
       "      <th></th>\n",
       "      <th></th>\n",
       "      <th></th>\n",
       "      <th></th>\n",
       "      <th></th>\n",
       "    </tr>\n",
       "  </thead>\n",
       "  <tbody>\n",
       "    <tr>\n",
       "      <th>2016-06-06T12:18:03.336Z</th>\n",
       "      <td>256.557</td>\n",
       "      <td>-0.77216</td>\n",
       "      <td>4.0.4</td>\n",
       "      <td>6.4.0</td>\n",
       "      <td>AAL</td>\n",
       "      <td>AA</td>\n",
       "      <td>American Airlines</td>\n",
       "      <td>9443.618</td>\n",
       "      <td>KMIA</td>\n",
       "      <td>MIA</td>\n",
       "      <td>...</td>\n",
       "      <td>2016-06-06T13:28:00Z</td>\n",
       "      <td>AAL</td>\n",
       "      <td>AAL1359</td>\n",
       "      <td>1359</td>\n",
       "      <td>33.314</td>\n",
       "      <td>2016-06-06T12:18:03.336Z0:0</td>\n",
       "      <td>-79.9612</td>\n",
       "      <td>MIA</td>\n",
       "      <td>N905AN</td>\n",
       "      <td>False</td>\n",
       "    </tr>\n",
       "    <tr>\n",
       "      <th>2016-06-06T12:18:03.336Z</th>\n",
       "      <td>256.557</td>\n",
       "      <td>-0.77216</td>\n",
       "      <td>4.0.4</td>\n",
       "      <td>6.4.0</td>\n",
       "      <td>AAL</td>\n",
       "      <td>AA</td>\n",
       "      <td>American Airlines</td>\n",
       "      <td>9443.618</td>\n",
       "      <td>KMIA</td>\n",
       "      <td>MIA</td>\n",
       "      <td>...</td>\n",
       "      <td>2016-06-06T13:28:00Z</td>\n",
       "      <td>AAL</td>\n",
       "      <td>AAL1359</td>\n",
       "      <td>1359</td>\n",
       "      <td>33.314</td>\n",
       "      <td>2016-06-06T12:18:03.336Z0:0</td>\n",
       "      <td>-79.9612</td>\n",
       "      <td>MIA</td>\n",
       "      <td>N905AN</td>\n",
       "      <td>False</td>\n",
       "    </tr>\n",
       "  </tbody>\n",
       "</table>\n",
       "<p>2 rows × 23 columns</p>\n",
       "</div>"
      ],
      "text/plain": [
       "                           HSpeed   VSpeed abpVersion acpuVersion airlineCode  \\\n",
       "utcTime                                                                         \n",
       "2016-06-06T12:18:03.336Z  256.557 -0.77216      4.0.4       6.4.0         AAL   \n",
       "2016-06-06T12:18:03.336Z  256.557 -0.77216      4.0.4       6.4.0         AAL   \n",
       "\n",
       "                         airlineCodeIata        airlineName  altitude  \\\n",
       "utcTime                                                                 \n",
       "2016-06-06T12:18:03.336Z              AA  American Airlines  9443.618   \n",
       "2016-06-06T12:18:03.336Z              AA  American Airlines  9443.618   \n",
       "\n",
       "                         departureAirportCode departureAirportCodeIata  \\\n",
       "utcTime                                                                  \n",
       "2016-06-06T12:18:03.336Z                 KMIA                      MIA   \n",
       "2016-06-06T12:18:03.336Z                 KMIA                      MIA   \n",
       "\n",
       "                              ...            expectedArrival  \\\n",
       "utcTime                       ...                              \n",
       "2016-06-06T12:18:03.336Z      ...       2016-06-06T13:28:00Z   \n",
       "2016-06-06T12:18:03.336Z      ...       2016-06-06T13:28:00Z   \n",
       "\n",
       "                         flightNumberAlpha flightNumberInfo  \\\n",
       "utcTime                                                       \n",
       "2016-06-06T12:18:03.336Z               AAL          AAL1359   \n",
       "2016-06-06T12:18:03.336Z               AAL          AAL1359   \n",
       "\n",
       "                         flightNumberNumeric latitude  \\\n",
       "utcTime                                                 \n",
       "2016-06-06T12:18:03.336Z                1359   33.314   \n",
       "2016-06-06T12:18:03.336Z                1359   33.314   \n",
       "\n",
       "                                            localTime  longitude  origin  \\\n",
       "utcTime                                                                    \n",
       "2016-06-06T12:18:03.336Z  2016-06-06T12:18:03.336Z0:0   -79.9612     MIA   \n",
       "2016-06-06T12:18:03.336Z  2016-06-06T12:18:03.336Z0:0   -79.9612     MIA   \n",
       "\n",
       "                         tailNumber  videoService  \n",
       "utcTime                                            \n",
       "2016-06-06T12:18:03.336Z     N905AN         False  \n",
       "2016-06-06T12:18:03.336Z     N905AN         False  \n",
       "\n",
       "[2 rows x 23 columns]"
      ]
     },
     "execution_count": 13,
     "metadata": {},
     "output_type": "execute_result"
    }
   ],
   "source": [
    "df.set_index('utcTime')"
   ]
  },
  {
   "cell_type": "code",
   "execution_count": 14,
   "metadata": {
    "collapsed": false
   },
   "outputs": [
    {
     "data": {
      "image/png": "[encoded data removed]",
      "text/plain": [
       "<matplotlib.figure.Figure at 0x1141a4e50>"
      ]
     },
     "metadata": {},
     "output_type": "display_data"
    }
   ],
   "source": [
    "plt.hold(True)"
   ]
  },
  {
   "cell_type": "code",
   "execution_count": 74,
   "metadata": {
    "collapsed": false
   },
   "outputs": [
    {
     "data": {
      "text/plain": [
       "<matplotlib.axes.AxesSubplot at 0x11434f350>"
      ]
     },
     "execution_count": 74,
     "metadata": {},
     "output_type": "execute_result"
    },
    {
     "data": {
      "image/png": "[encoded data removed]",
      "text/plain": [
       "<matplotlib.figure.Figure at 0x114a0e4d0>"
      ]
     },
     "metadata": {},
     "output_type": "display_data"
    }
   ],
   "source": [
    "df.plot(x='latitude', y='longitude', kind='scatter')"
   ]
  },
  {
   "cell_type": "code",
   "execution_count": 29,
   "metadata": {
    "collapsed": false
   },
   "outputs": [
    {
     "data": {
      "text/html": [
       "<iframe src=\"data:text/html;base64,PGhlYWQ+CiAgICA8c2NyaXB0IHNyYz0iaHR0cHM6Ly9jZG5qcy5jbG91ZGZsYXJlLmNvbS9hamF4L2xpYnMvbGVhZmxldC8wLjcuMy9sZWFmbGV0LmpzIj48L3NjcmlwdD4KICAgIDxsaW5rIHJlbD0ic3R5bGVzaGVldCIgaHJlZj0iaHR0cHM6Ly9jZG5qcy5jbG91ZGZsYXJlLmNvbS9hamF4L2xpYnMvbGVhZmxldC8wLjcuMy9sZWFmbGV0LmNzcyIgLz4KICA8c3R5bGU+CiAgICAjbWFwYTA1ZGNhOGMyYTEzNGE0ZjkyMzNkMmUzMWNhYmY3MzEgewogICAgICBoZWlnaHQ6MTAwJTsKICAgIH0KICA8L3N0eWxlPiAKPC9oZWFkPgo8Ym9keT4KICA8ZGl2IGlkPSJtYXBhMDVkY2E4YzJhMTM0YTRmOTIzM2QyZTMxY2FiZjczMSI+PC9kaXY+CjxzY3JpcHQgdGV4dD0idGV4dC9qYXZhc2NyaXB0Ij4KdmFyIG1hcCA9IEwubWFwKCdtYXBhMDVkY2E4YzJhMTM0YTRmOTIzM2QyZTMxY2FiZjczMScpOwpMLnRpbGVMYXllcigKICAiaHR0cDovL3tzfS50aWxlLm9wZW5zdHJlZXRtYXAub3JnL3t6fS97eH0ve3l9LnBuZyIsCiAge21heFpvb206MTksIGF0dHJpYnV0aW9uOiAnPGEgaHJlZj0iaHR0cHM6Ly9naXRodWIuY29tL2p3YXNzL21wbGxlYWZsZXQiPm1wbGxlYWZsZXQ8L2E+IHwgTWFwIGRhdGEgKGMpIDxhIGhyZWY9Imh0dHA6Ly9vcGVuc3RyZWV0bWFwLm9yZyI+T3BlblN0cmVldE1hcDwvYT4gY29udHJpYnV0b3JzJ30pLmFkZFRvKG1hcCk7CnZhciBnakRhdGEgPSB7InR5cGUiOiAiRmVhdHVyZUNvbGxlY3Rpb24iLCAiZmVhdHVyZXMiOiBbXX07CgppZiAoZ2pEYXRhLmZlYXR1cmVzLmxlbmd0aCAhPSAwKSB7CiAgdmFyIGdqID0gTC5nZW9Kc29uKGdqRGF0YSwgewogICAgc3R5bGU6IGZ1bmN0aW9uIChmZWF0dXJlKSB7CiAgICAgIHJldHVybiBmZWF0dXJlLnByb3BlcnRpZXM7CiAgICB9LAogICAgcG9pbnRUb0xheWVyOiBmdW5jdGlvbiAoZmVhdHVyZSwgbGF0bG5nKSB7CiAgICAgIHZhciBpY29uID0gTC5kaXZJY29uKHsnaHRtbCc6IGZlYXR1cmUucHJvcGVydGllcy5odG1sLCAKICAgICAgICBpY29uQW5jaG9yOiBbZmVhdHVyZS5wcm9wZXJ0aWVzLmFuY2hvcl94LCAKICAgICAgICAgICAgICAgICAgICAgZmVhdHVyZS5wcm9wZXJ0aWVzLmFuY2hvcl95XSwgCiAgICAgICAgICBjbGFzc05hbWU6ICdlbXB0eSd9KTsgIC8vIFdoYXQgY2FuIEkgZG8gYWJvdXQgZW1wdHk/CiAgICAgIHJldHVybiBMLm1hcmtlcihsYXRsbmcsIHtpY29uOiBpY29ufSk7CiAgICB9CiAgfSk7CiAgZ2ouYWRkVG8obWFwKTsKICAKICBtYXAuZml0Qm91bmRzKGdqLmdldEJvdW5kcygpKTsKfSBlbHNlIHsKICBtYXAuc2V0VmlldyhbMCwgMF0sIDEpOwp9Cjwvc2NyaXB0Pgo8L2JvZHk+\" width=\"100%\" height=\"240\"></iframe>"
      ],
      "text/plain": [
       "<IPython.core.display.HTML object>"
      ]
     },
     "execution_count": 29,
     "metadata": {},
     "output_type": "execute_result"
    }
   ],
   "source": [
    "ml.display()"
   ]
  },
  {
   "cell_type": "code",
   "execution_count": 33,
   "metadata": {
    "collapsed": false
   },
   "outputs": [],
   "source": [
    "df[['longitude', 'latitude', 'altitude']] = df[['longitude', 'latitude', 'altitude']].astype(float)"
   ]
  },
  {
   "cell_type": "code",
   "execution_count": 35,
   "metadata": {
    "collapsed": false
   },
   "outputs": [
    {
     "data": {
      "text/html": [
       "<div>\n",
       "<table border=\"1\" class=\"dataframe\">\n",
       "  <thead>\n",
       "    <tr style=\"text-align: right;\">\n",
       "      <th></th>\n",
       "      <th>HSpeed</th>\n",
       "      <th>VSpeed</th>\n",
       "      <th>abpVersion</th>\n",
       "      <th>acpuVersion</th>\n",
       "      <th>airlineCode</th>\n",
       "      <th>airlineCodeIata</th>\n",
       "      <th>airlineName</th>\n",
       "      <th>altitude</th>\n",
       "      <th>departureAirportCode</th>\n",
       "      <th>departureAirportCodeIata</th>\n",
       "      <th>...</th>\n",
       "      <th>flightNumberAlpha</th>\n",
       "      <th>flightNumberInfo</th>\n",
       "      <th>flightNumberNumeric</th>\n",
       "      <th>latitude</th>\n",
       "      <th>localTime</th>\n",
       "      <th>longitude</th>\n",
       "      <th>origin</th>\n",
       "      <th>tailNumber</th>\n",
       "      <th>utcTime</th>\n",
       "      <th>videoService</th>\n",
       "    </tr>\n",
       "  </thead>\n",
       "  <tbody>\n",
       "    <tr>\n",
       "      <th>0</th>\n",
       "      <td>256.557</td>\n",
       "      <td>-0.77216</td>\n",
       "      <td>4.0.4</td>\n",
       "      <td>6.4.0</td>\n",
       "      <td>AAL</td>\n",
       "      <td>AA</td>\n",
       "      <td>American Airlines</td>\n",
       "      <td>9443.618</td>\n",
       "      <td>KMIA</td>\n",
       "      <td>MIA</td>\n",
       "      <td>...</td>\n",
       "      <td>AAL</td>\n",
       "      <td>AAL1359</td>\n",
       "      <td>1359</td>\n",
       "      <td>33.314</td>\n",
       "      <td>2016-06-06T12:18:03.336Z0:0</td>\n",
       "      <td>-79.9612</td>\n",
       "      <td>MIA</td>\n",
       "      <td>N905AN</td>\n",
       "      <td>2016-06-06T12:18:03.336Z</td>\n",
       "      <td>False</td>\n",
       "    </tr>\n",
       "    <tr>\n",
       "      <th>0</th>\n",
       "      <td>256.557</td>\n",
       "      <td>-0.77216</td>\n",
       "      <td>4.0.4</td>\n",
       "      <td>6.4.0</td>\n",
       "      <td>AAL</td>\n",
       "      <td>AA</td>\n",
       "      <td>American Airlines</td>\n",
       "      <td>9443.618</td>\n",
       "      <td>KMIA</td>\n",
       "      <td>MIA</td>\n",
       "      <td>...</td>\n",
       "      <td>AAL</td>\n",
       "      <td>AAL1359</td>\n",
       "      <td>1359</td>\n",
       "      <td>33.314</td>\n",
       "      <td>2016-06-06T12:18:03.336Z0:0</td>\n",
       "      <td>-79.9612</td>\n",
       "      <td>MIA</td>\n",
       "      <td>N905AN</td>\n",
       "      <td>2016-06-06T12:18:03.336Z</td>\n",
       "      <td>False</td>\n",
       "    </tr>\n",
       "  </tbody>\n",
       "</table>\n",
       "<p>2 rows × 24 columns</p>\n",
       "</div>"
      ],
      "text/plain": [
       "    HSpeed   VSpeed abpVersion acpuVersion airlineCode airlineCodeIata  \\\n",
       "0  256.557 -0.77216      4.0.4       6.4.0         AAL              AA   \n",
       "0  256.557 -0.77216      4.0.4       6.4.0         AAL              AA   \n",
       "\n",
       "         airlineName  altitude departureAirportCode departureAirportCodeIata  \\\n",
       "0  American Airlines  9443.618                 KMIA                      MIA   \n",
       "0  American Airlines  9443.618                 KMIA                      MIA   \n",
       "\n",
       "       ...      flightNumberAlpha flightNumberInfo flightNumberNumeric  \\\n",
       "0      ...                    AAL          AAL1359                1359   \n",
       "0      ...                    AAL          AAL1359                1359   \n",
       "\n",
       "  latitude                    localTime longitude  origin  tailNumber  \\\n",
       "0   33.314  2016-06-06T12:18:03.336Z0:0  -79.9612     MIA      N905AN   \n",
       "0   33.314  2016-06-06T12:18:03.336Z0:0  -79.9612     MIA      N905AN   \n",
       "\n",
       "                    utcTime  videoService  \n",
       "0  2016-06-06T12:18:03.336Z         False  \n",
       "0  2016-06-06T12:18:03.336Z         False  \n",
       "\n",
       "[2 rows x 24 columns]"
      ]
     },
     "execution_count": 35,
     "metadata": {},
     "output_type": "execute_result"
    }
   ],
   "source": [
    "df.set_index('utcTime')\n",
    "df"
   ]
  },
  {
   "cell_type": "code",
   "execution_count": 36,
   "metadata": {
    "collapsed": true
   },
   "outputs": [],
   "source": [
    "import us"
   ]
  },
  {
   "cell_type": "code",
   "execution_count": 48,
   "metadata": {
    "collapsed": false
   },
   "outputs": [],
   "source": [
    "def get_states():\n",
    "    contiguous = [state for state in us.states.STATES if state.is_contiguous]\n",
    "    shapefiles = [state.shapefile_urls()['state'] for state in contiguous]\n",
    "\n",
    "    return dict(zip(contiguous, shapefiles))"
   ]
  },
  {
   "cell_type": "code",
   "execution_count": 49,
   "metadata": {
    "collapsed": false
   },
   "outputs": [
    {
     "data": {
      "text/plain": [
       "{<State:Arizona>: u'http://www2.census.gov/geo/tiger/TIGER2010/STATE/2010/tl_2010_04_state10.zip',\n",
       " <State:Arkansas>: u'http://www2.census.gov/geo/tiger/TIGER2010/STATE/2010/tl_2010_05_state10.zip',\n",
       " <State:California>: u'http://www2.census.gov/geo/tiger/TIGER2010/STATE/2010/tl_2010_06_state10.zip',\n",
       " <State:Alabama>: u'http://www2.census.gov/geo/tiger/TIGER2010/STATE/2010/tl_2010_01_state10.zip',\n",
       " <State:Colorado>: u'http://www2.census.gov/geo/tiger/TIGER2010/STATE/2010/tl_2010_08_state10.zip',\n",
       " <State:Texas>: u'http://www2.census.gov/geo/tiger/TIGER2010/STATE/2010/tl_2010_48_state10.zip',\n",
       " <State:Utah>: u'http://www2.census.gov/geo/tiger/TIGER2010/STATE/2010/tl_2010_49_state10.zip',\n",
       " <State:Vermont>: u'http://www2.census.gov/geo/tiger/TIGER2010/STATE/2010/tl_2010_50_state10.zip',\n",
       " <State:Virginia>: u'http://www2.census.gov/geo/tiger/TIGER2010/STATE/2010/tl_2010_51_state10.zip',\n",
       " <State:Washington>: u'http://www2.census.gov/geo/tiger/TIGER2010/STATE/2010/tl_2010_53_state10.zip',\n",
       " <State:West Virginia>: u'http://www2.census.gov/geo/tiger/TIGER2010/STATE/2010/tl_2010_54_state10.zip',\n",
       " <State:Wisconsin>: u'http://www2.census.gov/geo/tiger/TIGER2010/STATE/2010/tl_2010_55_state10.zip',\n",
       " <State:Wyoming>: u'http://www2.census.gov/geo/tiger/TIGER2010/STATE/2010/tl_2010_56_state10.zip',\n",
       " <State:Rhode Island>: u'http://www2.census.gov/geo/tiger/TIGER2010/STATE/2010/tl_2010_44_state10.zip',\n",
       " <State:Mississippi>: u'http://www2.census.gov/geo/tiger/TIGER2010/STATE/2010/tl_2010_28_state10.zip',\n",
       " <State:Missouri>: u'http://www2.census.gov/geo/tiger/TIGER2010/STATE/2010/tl_2010_29_state10.zip',\n",
       " <State:Nebraska>: u'http://www2.census.gov/geo/tiger/TIGER2010/STATE/2010/tl_2010_31_state10.zip',\n",
       " <State:Montana>: u'http://www2.census.gov/geo/tiger/TIGER2010/STATE/2010/tl_2010_30_state10.zip',\n",
       " <State:Nevada>: u'http://www2.census.gov/geo/tiger/TIGER2010/STATE/2010/tl_2010_32_state10.zip',\n",
       " <State:New Hampshire>: u'http://www2.census.gov/geo/tiger/TIGER2010/STATE/2010/tl_2010_33_state10.zip',\n",
       " <State:New Mexico>: u'http://www2.census.gov/geo/tiger/TIGER2010/STATE/2010/tl_2010_35_state10.zip',\n",
       " <State:Pennsylvania>: u'http://www2.census.gov/geo/tiger/TIGER2010/STATE/2010/tl_2010_42_state10.zip',\n",
       " <State:New Jersey>: u'http://www2.census.gov/geo/tiger/TIGER2010/STATE/2010/tl_2010_34_state10.zip',\n",
       " <State:Massachusetts>: u'http://www2.census.gov/geo/tiger/TIGER2010/STATE/2010/tl_2010_25_state10.zip',\n",
       " <State:Ohio>: u'http://www2.census.gov/geo/tiger/TIGER2010/STATE/2010/tl_2010_39_state10.zip',\n",
       " <State:New York>: u'http://www2.census.gov/geo/tiger/TIGER2010/STATE/2010/tl_2010_36_state10.zip',\n",
       " <State:Minnesota>: u'http://www2.census.gov/geo/tiger/TIGER2010/STATE/2010/tl_2010_27_state10.zip',\n",
       " <State:Maine>: u'http://www2.census.gov/geo/tiger/TIGER2010/STATE/2010/tl_2010_23_state10.zip',\n",
       " <State:Oklahoma>: u'http://www2.census.gov/geo/tiger/TIGER2010/STATE/2010/tl_2010_40_state10.zip',\n",
       " <State:South Carolina>: u'http://www2.census.gov/geo/tiger/TIGER2010/STATE/2010/tl_2010_45_state10.zip',\n",
       " <State:Maryland>: u'http://www2.census.gov/geo/tiger/TIGER2010/STATE/2010/tl_2010_24_state10.zip',\n",
       " <State:North Carolina>: u'http://www2.census.gov/geo/tiger/TIGER2010/STATE/2010/tl_2010_37_state10.zip',\n",
       " <State:Oregon>: u'http://www2.census.gov/geo/tiger/TIGER2010/STATE/2010/tl_2010_41_state10.zip',\n",
       " <State:Indiana>: u'http://www2.census.gov/geo/tiger/TIGER2010/STATE/2010/tl_2010_18_state10.zip',\n",
       " <State:Tennessee>: u'http://www2.census.gov/geo/tiger/TIGER2010/STATE/2010/tl_2010_47_state10.zip',\n",
       " <State:Kentucky>: u'http://www2.census.gov/geo/tiger/TIGER2010/STATE/2010/tl_2010_21_state10.zip',\n",
       " <State:Iowa>: u'http://www2.census.gov/geo/tiger/TIGER2010/STATE/2010/tl_2010_19_state10.zip',\n",
       " <State:North Dakota>: u'http://www2.census.gov/geo/tiger/TIGER2010/STATE/2010/tl_2010_38_state10.zip',\n",
       " <State:Kansas>: u'http://www2.census.gov/geo/tiger/TIGER2010/STATE/2010/tl_2010_20_state10.zip',\n",
       " <State:Idaho>: u'http://www2.census.gov/geo/tiger/TIGER2010/STATE/2010/tl_2010_16_state10.zip',\n",
       " <State:South Dakota>: u'http://www2.census.gov/geo/tiger/TIGER2010/STATE/2010/tl_2010_46_state10.zip',\n",
       " <State:Florida>: u'http://www2.census.gov/geo/tiger/TIGER2010/STATE/2010/tl_2010_12_state10.zip',\n",
       " <State:Illinois>: u'http://www2.census.gov/geo/tiger/TIGER2010/STATE/2010/tl_2010_17_state10.zip',\n",
       " <State:Georgia>: u'http://www2.census.gov/geo/tiger/TIGER2010/STATE/2010/tl_2010_13_state10.zip',\n",
       " <State:Louisiana>: u'http://www2.census.gov/geo/tiger/TIGER2010/STATE/2010/tl_2010_22_state10.zip',\n",
       " <State:Michigan>: u'http://www2.census.gov/geo/tiger/TIGER2010/STATE/2010/tl_2010_26_state10.zip',\n",
       " <State:Delaware>: u'http://www2.census.gov/geo/tiger/TIGER2010/STATE/2010/tl_2010_10_state10.zip',\n",
       " <State:Connecticut>: u'http://www2.census.gov/geo/tiger/TIGER2010/STATE/2010/tl_2010_09_state10.zip',\n",
       " <State:District of Columbia>: u'http://www2.census.gov/geo/tiger/TIGER2010/STATE/2010/tl_2010_11_state10.zip'}"
      ]
     },
     "execution_count": 49,
     "metadata": {},
     "output_type": "execute_result"
    }
   ],
   "source": [
    "def get_boundaries(states):\n",
    "    \"\"\"Takes in a dictionary with states and zip files, returns a dictionarty with states and boundaries\"\"\"\n",
    "    # Download zip file\n",
    "    # unzip it and open it with shapely\n",
    "    "
   ]
  },
  {
   "cell_type": "code",
   "execution_count": 51,
   "metadata": {
    "collapsed": false
   },
   "outputs": [
    {
     "name": "stderr",
     "output_type": "stream",
     "text": [
      "  % Total    % Received % Xferd  Average Speed   Time    Time     Time  Current\n",
      "                                 Dload  Upload   Total   Spent    Left  Speed\n",
      "\r",
      "  0     0    0     0    0     0      0      0 --:--:-- --:--:-- --:--:--     0\r",
      " 59  105k   59 64445    0     0  2577k      0 --:--:-- --:--:-- --:--:-- 2517k\r",
      "100  105k  100  105k    0     0   308k      0 --:--:-- --:--:-- --:--:--  308k\n"
     ]
    }
   ],
   "source": [
    "%%bash\n",
    "curl -O http://www2.census.gov/geo/tiger/TIGER2010/STATE/2010/tl_2010_04_state10.zip"
   ]
  },
  {
   "cell_type": "code",
   "execution_count": 54,
   "metadata": {
    "collapsed": false
   },
   "outputs": [
    {
     "name": "stdout",
     "output_type": "stream",
     "text": [
      "Archive:  tl_2010_04_state10.zip\n",
      "  inflating: tl_2010_04_state10.dbf  \n",
      "  inflating: tl_2010_04_state10.prj  \n",
      "  inflating: tl_2010_04_state10.shp  \n",
      "  inflating: tl_2010_04_state10.shp.xml  \n",
      "  inflating: tl_2010_04_state10.shx  \n"
     ]
    }
   ],
   "source": [
    "%%bash\n",
    "unzip tl_2010_04_state10.zip"
   ]
  },
  {
   "cell_type": "code",
   "execution_count": 58,
   "metadata": {
    "collapsed": false
   },
   "outputs": [],
   "source": [
    "df = flight(data=df)"
   ]
  },
  {
   "cell_type": "code",
   "execution_count": 64,
   "metadata": {
    "collapsed": false
   },
   "outputs": [
    {
     "name": "stderr",
     "output_type": "stream",
     "text": [
      "ERROR: Cell magic `%%show` not found.\n"
     ]
    }
   ],
   "source": [
    "%%show\n",
    "fiona.png\n"
   ]
  },
  {
   "cell_type": "code",
   "execution_count": 67,
   "metadata": {
    "collapsed": false
   },
   "outputs": [],
   "source": [
    "shp = fiona.open('tl_2010_04_state10.shp')"
   ]
  },
  {
   "cell_type": "code",
   "execution_count": 68,
   "metadata": {
    "collapsed": false
   },
   "outputs": [
    {
     "data": {
      "text/plain": [
       "<open Collection 'tl_2010_04_state10.shp:tl_2010_04_state10', mode 'r' at 0x11456b890>"
      ]
     },
     "execution_count": 68,
     "metadata": {},
     "output_type": "execute_result"
    }
   ],
   "source": [
    "shp"
   ]
  },
  {
   "cell_type": "markdown",
   "metadata": {},
   "source": [
    "Next task, figure out how to plot things by reading this tutorial:\n",
    "    \n",
    "    http://sensitivecities.com/so-youd-like-to-make-a-map-using-python-EN.html"
   ]
  },
  {
   "cell_type": "code",
   "execution_count": 69,
   "metadata": {
    "collapsed": true
   },
   "outputs": [],
   "source": [
    "df = flight(data=df)"
   ]
  },
  {
   "cell_type": "code",
   "execution_count": 70,
   "metadata": {
    "collapsed": false
   },
   "outputs": [
    {
     "data": {
      "text/html": [
       "<div>\n",
       "<table border=\"1\" class=\"dataframe\">\n",
       "  <thead>\n",
       "    <tr style=\"text-align: right;\">\n",
       "      <th></th>\n",
       "      <th>HSpeed</th>\n",
       "      <th>VSpeed</th>\n",
       "      <th>abpVersion</th>\n",
       "      <th>acpuVersion</th>\n",
       "      <th>airlineCode</th>\n",
       "      <th>airlineCodeIata</th>\n",
       "      <th>airlineName</th>\n",
       "      <th>altitude</th>\n",
       "      <th>departureAirportCode</th>\n",
       "      <th>departureAirportCodeIata</th>\n",
       "      <th>...</th>\n",
       "      <th>flightNumberAlpha</th>\n",
       "      <th>flightNumberInfo</th>\n",
       "      <th>flightNumberNumeric</th>\n",
       "      <th>latitude</th>\n",
       "      <th>localTime</th>\n",
       "      <th>longitude</th>\n",
       "      <th>origin</th>\n",
       "      <th>tailNumber</th>\n",
       "      <th>utcTime</th>\n",
       "      <th>videoService</th>\n",
       "    </tr>\n",
       "  </thead>\n",
       "  <tbody>\n",
       "    <tr>\n",
       "      <th>0</th>\n",
       "      <td>256.5570</td>\n",
       "      <td>-0.77216</td>\n",
       "      <td>4.0.4</td>\n",
       "      <td>6.4.0</td>\n",
       "      <td>AAL</td>\n",
       "      <td>AA</td>\n",
       "      <td>American Airlines</td>\n",
       "      <td>9443.6180</td>\n",
       "      <td>KMIA</td>\n",
       "      <td>MIA</td>\n",
       "      <td>...</td>\n",
       "      <td>AAL</td>\n",
       "      <td>AAL1359</td>\n",
       "      <td>1359</td>\n",
       "      <td>33.3140</td>\n",
       "      <td>2016-06-06T12:18:03.336Z0:0</td>\n",
       "      <td>-79.9612</td>\n",
       "      <td>MIA</td>\n",
       "      <td>N905AN</td>\n",
       "      <td>2016-06-06T12:18:03.336Z</td>\n",
       "      <td>False</td>\n",
       "    </tr>\n",
       "    <tr>\n",
       "      <th>0</th>\n",
       "      <td>256.5570</td>\n",
       "      <td>-0.77216</td>\n",
       "      <td>4.0.4</td>\n",
       "      <td>6.4.0</td>\n",
       "      <td>AAL</td>\n",
       "      <td>AA</td>\n",
       "      <td>American Airlines</td>\n",
       "      <td>9443.6180</td>\n",
       "      <td>KMIA</td>\n",
       "      <td>MIA</td>\n",
       "      <td>...</td>\n",
       "      <td>AAL</td>\n",
       "      <td>AAL1359</td>\n",
       "      <td>1359</td>\n",
       "      <td>33.3140</td>\n",
       "      <td>2016-06-06T12:18:03.336Z0:0</td>\n",
       "      <td>-79.9612</td>\n",
       "      <td>MIA</td>\n",
       "      <td>N905AN</td>\n",
       "      <td>2016-06-06T12:18:03.336Z</td>\n",
       "      <td>False</td>\n",
       "    </tr>\n",
       "    <tr>\n",
       "      <th>0</th>\n",
       "      <td>232.5731</td>\n",
       "      <td>-4.78536</td>\n",
       "      <td>4.0.4</td>\n",
       "      <td>6.4.0</td>\n",
       "      <td>AAL</td>\n",
       "      <td>AA</td>\n",
       "      <td>American Airlines</td>\n",
       "      <td>7871.1553</td>\n",
       "      <td>KMIA</td>\n",
       "      <td>MIA</td>\n",
       "      <td>...</td>\n",
       "      <td>AAL</td>\n",
       "      <td>AAL1359</td>\n",
       "      <td>1359</td>\n",
       "      <td>37.2739</td>\n",
       "      <td>2016-06-06T12:50:06.219Z0:0</td>\n",
       "      <td>-77.5992</td>\n",
       "      <td>MIA</td>\n",
       "      <td>N905AN</td>\n",
       "      <td>2016-06-06T12:50:06.219Z</td>\n",
       "      <td>False</td>\n",
       "    </tr>\n",
       "    <tr>\n",
       "      <th>0</th>\n",
       "      <td>209.0393</td>\n",
       "      <td>-6.77672</td>\n",
       "      <td>4.0.4</td>\n",
       "      <td>6.4.0</td>\n",
       "      <td>AAL</td>\n",
       "      <td>AA</td>\n",
       "      <td>American Airlines</td>\n",
       "      <td>6322.4663</td>\n",
       "      <td>KMIA</td>\n",
       "      <td>MIA</td>\n",
       "      <td>...</td>\n",
       "      <td>AAL</td>\n",
       "      <td>AAL1359</td>\n",
       "      <td>1359</td>\n",
       "      <td>37.6186</td>\n",
       "      <td>2016-06-06T12:53:08.306Z0:0</td>\n",
       "      <td>-77.4406</td>\n",
       "      <td>MIA</td>\n",
       "      <td>N905AN</td>\n",
       "      <td>2016-06-06T12:53:08.306Z</td>\n",
       "      <td>False</td>\n",
       "    </tr>\n",
       "    <tr>\n",
       "      <th>0</th>\n",
       "      <td>175.5390</td>\n",
       "      <td>-12.34440</td>\n",
       "      <td>4.0.4</td>\n",
       "      <td>6.4.0</td>\n",
       "      <td>AAL</td>\n",
       "      <td>AA</td>\n",
       "      <td>American Airlines</td>\n",
       "      <td>4764.6340</td>\n",
       "      <td>KMIA</td>\n",
       "      <td>MIA</td>\n",
       "      <td>...</td>\n",
       "      <td>AAL</td>\n",
       "      <td>AAL1359</td>\n",
       "      <td>1359</td>\n",
       "      <td>38.0951</td>\n",
       "      <td>2016-06-06T12:58:02.449Z0:0</td>\n",
       "      <td>-77.2936</td>\n",
       "      <td>MIA</td>\n",
       "      <td>N905AN</td>\n",
       "      <td>2016-06-06T12:58:02.449Z</td>\n",
       "      <td>False</td>\n",
       "    </tr>\n",
       "  </tbody>\n",
       "</table>\n",
       "<p>5 rows × 24 columns</p>\n",
       "</div>"
      ],
      "text/plain": [
       "     HSpeed    VSpeed abpVersion acpuVersion airlineCode airlineCodeIata  \\\n",
       "0  256.5570  -0.77216      4.0.4       6.4.0         AAL              AA   \n",
       "0  256.5570  -0.77216      4.0.4       6.4.0         AAL              AA   \n",
       "0  232.5731  -4.78536      4.0.4       6.4.0         AAL              AA   \n",
       "0  209.0393  -6.77672      4.0.4       6.4.0         AAL              AA   \n",
       "0  175.5390 -12.34440      4.0.4       6.4.0         AAL              AA   \n",
       "\n",
       "         airlineName   altitude departureAirportCode departureAirportCodeIata  \\\n",
       "0  American Airlines  9443.6180                 KMIA                      MIA   \n",
       "0  American Airlines  9443.6180                 KMIA                      MIA   \n",
       "0  American Airlines  7871.1553                 KMIA                      MIA   \n",
       "0  American Airlines  6322.4663                 KMIA                      MIA   \n",
       "0  American Airlines  4764.6340                 KMIA                      MIA   \n",
       "\n",
       "       ...      flightNumberAlpha flightNumberInfo flightNumberNumeric  \\\n",
       "0      ...                    AAL          AAL1359                1359   \n",
       "0      ...                    AAL          AAL1359                1359   \n",
       "0      ...                    AAL          AAL1359                1359   \n",
       "0      ...                    AAL          AAL1359                1359   \n",
       "0      ...                    AAL          AAL1359                1359   \n",
       "\n",
       "  latitude                    localTime longitude  origin  tailNumber  \\\n",
       "0  33.3140  2016-06-06T12:18:03.336Z0:0  -79.9612     MIA      N905AN   \n",
       "0  33.3140  2016-06-06T12:18:03.336Z0:0  -79.9612     MIA      N905AN   \n",
       "0  37.2739  2016-06-06T12:50:06.219Z0:0  -77.5992     MIA      N905AN   \n",
       "0  37.6186  2016-06-06T12:53:08.306Z0:0  -77.4406     MIA      N905AN   \n",
       "0  38.0951  2016-06-06T12:58:02.449Z0:0  -77.2936     MIA      N905AN   \n",
       "\n",
       "                    utcTime  videoService  \n",
       "0  2016-06-06T12:18:03.336Z         False  \n",
       "0  2016-06-06T12:18:03.336Z         False  \n",
       "0  2016-06-06T12:50:06.219Z         False  \n",
       "0  2016-06-06T12:53:08.306Z         False  \n",
       "0  2016-06-06T12:58:02.449Z         False  \n",
       "\n",
       "[5 rows x 24 columns]"
      ]
     },
     "execution_count": 70,
     "metadata": {},
     "output_type": "execute_result"
    }
   ],
   "source": [
    "df"
   ]
  },
  {
   "cell_type": "code",
   "execution_count": 71,
   "metadata": {
    "collapsed": true
   },
   "outputs": [],
   "source": [
    "df.to_csv('miami-dca.csv')"
   ]
  },
  {
   "cell_type": "code",
   "execution_count": 72,
   "metadata": {
    "collapsed": false
   },
   "outputs": [
    {
     "name": "stdout",
     "output_type": "stream",
     "text": [
      "Flight.ipynb                \u001b[31mtl_2010_04_state10.prj\u001b[m\u001b[m*\r\n",
      "_map.html                   \u001b[31mtl_2010_04_state10.shp\u001b[m\u001b[m*\r\n",
      "fiona.png                   \u001b[31mtl_2010_04_state10.shp.xml\u001b[m\u001b[m*\r\n",
      "miami-dca.csv               \u001b[31mtl_2010_04_state10.shx\u001b[m\u001b[m*\r\n",
      "requirements.txt            tl_2010_04_state10.zip\r\n",
      "\u001b[31mtl_2010_04_state10.dbf\u001b[m\u001b[m*\r\n"
     ]
    }
   ],
   "source": [
    "ls"
   ]
  },
  {
   "cell_type": "code",
   "execution_count": 73,
   "metadata": {
    "collapsed": false
   },
   "outputs": [
    {
     "name": "stdout",
     "output_type": "stream",
     "text": [
      ",HSpeed,VSpeed,abpVersion,acpuVersion,airlineCode,airlineCodeIata,airlineName,altitude,departureAirportCode,departureAirportCodeIata,destination,destinationAirportCode,destinationAirportCodeIata,expectedArrival,flightNumberAlpha,flightNumberInfo,flightNumberNumeric,latitude,localTime,longitude,origin,tailNumber,utcTime,videoService\r\n",
      "0,256.557,-0.77216,4.0.4,6.4.0,AAL,AA,American Airlines,9443.618,KMIA,MIA,DCA,KDCA,DCA,2016-06-06T13:28:00Z,AAL,AAL1359,1359,33.314,2016-06-06T12:18:03.336Z0:0,-79.9612,MIA,N905AN,2016-06-06T12:18:03.336Z,False\r\n",
      "0,256.557,-0.77216,4.0.4,6.4.0,AAL,AA,American Airlines,9443.618,KMIA,MIA,DCA,KDCA,DCA,2016-06-06T13:28:00Z,AAL,AAL1359,1359,33.314,2016-06-06T12:18:03.336Z0:0,-79.9612,MIA,N905AN,2016-06-06T12:18:03.336Z,False\r\n",
      "0,232.5731,-4.78536,4.0.4,6.4.0,AAL,AA,American Airlines,7871.1553,KMIA,MIA,DCA,KDCA,DCA,2016-06-06T13:28:00Z,AAL,AAL1359,1359,37.2739,2016-06-06T12:50:06.219Z0:0,-77.5992,MIA,N905AN,2016-06-06T12:50:06.219Z,False\r\n",
      "0,209.0393,-6.77672,4.0.4,6.4.0,AAL,AA,American Airlines,6322.4663,KMIA,MIA,DCA,KDCA,DCA,2016-06-06T13:28:00Z,AAL,AAL1359,1359,37.6186,2016-06-06T12:53:08.306Z0:0,-77.4406,MIA,N905AN,2016-06-06T12:53:08.306Z,False\r\n",
      "0,175.539,-12.3444,4.0.4,6.4.0,AAL,AA,American Airlines,4764.634,KMIA,MIA,DCA,KDCA,DCA,2016-06-06T13:28:00Z,AAL,AAL1359,1359,38.0951,2016-06-06T12:58:02.449Z0:0,-77.2936,MIA,N905AN,2016-06-06T12:58:02.449Z,False\r\n"
     ]
    }
   ],
   "source": [
    "cat miami-dca.csv"
   ]
  },
  {
   "cell_type": "code",
   "execution_count": null,
   "metadata": {
    "collapsed": true
   },
   "outputs": [],
   "source": []
  }
 ],
 "metadata": {
  "kernelspec": {
   "display_name": "Python 2",
   "language": "python",
   "name": "python2"
  },
  "language_info": {
   "codemirror_mode": {
    "name": "ipython",
    "version": 2
   },
   "file_extension": ".py",
   "mimetype": "text/x-python",
   "name": "python",
   "nbconvert_exporter": "python",
   "pygments_lexer": "ipython2",
   "version": "2.7.10"
  }
 },
 "nbformat": 4,
 "nbformat_minor": 0
}
