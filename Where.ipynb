{
 "cells": [
  {
   "cell_type": "code",
   "execution_count": 1,
   "metadata": {
    "collapsed": true
   },
   "outputs": [],
   "source": [
    "import pandas as pd"
   ]
  },
  {
   "cell_type": "code",
   "execution_count": 2,
   "metadata": {
    "collapsed": false
   },
   "outputs": [],
   "source": [
    "data = pd.read_csv('miami-dca.csv')"
   ]
  },
  {
   "cell_type": "code",
   "execution_count": 3,
   "metadata": {
    "collapsed": false
   },
   "outputs": [
    {
     "data": {
      "text/html": [
       "<div>\n",
       "<table border=\"1\" class=\"dataframe\">\n",
       "  <thead>\n",
       "    <tr style=\"text-align: right;\">\n",
       "      <th></th>\n",
       "      <th>Unnamed: 0</th>\n",
       "      <th>HSpeed</th>\n",
       "      <th>VSpeed</th>\n",
       "      <th>abpVersion</th>\n",
       "      <th>acpuVersion</th>\n",
       "      <th>airlineCode</th>\n",
       "      <th>airlineCodeIata</th>\n",
       "      <th>airlineName</th>\n",
       "      <th>altitude</th>\n",
       "      <th>departureAirportCode</th>\n",
       "      <th>...</th>\n",
       "      <th>flightNumberAlpha</th>\n",
       "      <th>flightNumberInfo</th>\n",
       "      <th>flightNumberNumeric</th>\n",
       "      <th>latitude</th>\n",
       "      <th>localTime</th>\n",
       "      <th>longitude</th>\n",
       "      <th>origin</th>\n",
       "      <th>tailNumber</th>\n",
       "      <th>utcTime</th>\n",
       "      <th>videoService</th>\n",
       "    </tr>\n",
       "  </thead>\n",
       "  <tbody>\n",
       "    <tr>\n",
       "      <th>0</th>\n",
       "      <td>0</td>\n",
       "      <td>256.5570</td>\n",
       "      <td>-0.77216</td>\n",
       "      <td>4.0.4</td>\n",
       "      <td>6.4.0</td>\n",
       "      <td>AAL</td>\n",
       "      <td>AA</td>\n",
       "      <td>American Airlines</td>\n",
       "      <td>9443.6180</td>\n",
       "      <td>KMIA</td>\n",
       "      <td>...</td>\n",
       "      <td>AAL</td>\n",
       "      <td>AAL1359</td>\n",
       "      <td>1359</td>\n",
       "      <td>33.3140</td>\n",
       "      <td>2016-06-06T12:18:03.336Z0:0</td>\n",
       "      <td>-79.9612</td>\n",
       "      <td>MIA</td>\n",
       "      <td>N905AN</td>\n",
       "      <td>2016-06-06T12:18:03.336Z</td>\n",
       "      <td>False</td>\n",
       "    </tr>\n",
       "    <tr>\n",
       "      <th>1</th>\n",
       "      <td>0</td>\n",
       "      <td>256.5570</td>\n",
       "      <td>-0.77216</td>\n",
       "      <td>4.0.4</td>\n",
       "      <td>6.4.0</td>\n",
       "      <td>AAL</td>\n",
       "      <td>AA</td>\n",
       "      <td>American Airlines</td>\n",
       "      <td>9443.6180</td>\n",
       "      <td>KMIA</td>\n",
       "      <td>...</td>\n",
       "      <td>AAL</td>\n",
       "      <td>AAL1359</td>\n",
       "      <td>1359</td>\n",
       "      <td>33.3140</td>\n",
       "      <td>2016-06-06T12:18:03.336Z0:0</td>\n",
       "      <td>-79.9612</td>\n",
       "      <td>MIA</td>\n",
       "      <td>N905AN</td>\n",
       "      <td>2016-06-06T12:18:03.336Z</td>\n",
       "      <td>False</td>\n",
       "    </tr>\n",
       "    <tr>\n",
       "      <th>2</th>\n",
       "      <td>0</td>\n",
       "      <td>232.5731</td>\n",
       "      <td>-4.78536</td>\n",
       "      <td>4.0.4</td>\n",
       "      <td>6.4.0</td>\n",
       "      <td>AAL</td>\n",
       "      <td>AA</td>\n",
       "      <td>American Airlines</td>\n",
       "      <td>7871.1553</td>\n",
       "      <td>KMIA</td>\n",
       "      <td>...</td>\n",
       "      <td>AAL</td>\n",
       "      <td>AAL1359</td>\n",
       "      <td>1359</td>\n",
       "      <td>37.2739</td>\n",
       "      <td>2016-06-06T12:50:06.219Z0:0</td>\n",
       "      <td>-77.5992</td>\n",
       "      <td>MIA</td>\n",
       "      <td>N905AN</td>\n",
       "      <td>2016-06-06T12:50:06.219Z</td>\n",
       "      <td>False</td>\n",
       "    </tr>\n",
       "    <tr>\n",
       "      <th>3</th>\n",
       "      <td>0</td>\n",
       "      <td>209.0393</td>\n",
       "      <td>-6.77672</td>\n",
       "      <td>4.0.4</td>\n",
       "      <td>6.4.0</td>\n",
       "      <td>AAL</td>\n",
       "      <td>AA</td>\n",
       "      <td>American Airlines</td>\n",
       "      <td>6322.4663</td>\n",
       "      <td>KMIA</td>\n",
       "      <td>...</td>\n",
       "      <td>AAL</td>\n",
       "      <td>AAL1359</td>\n",
       "      <td>1359</td>\n",
       "      <td>37.6186</td>\n",
       "      <td>2016-06-06T12:53:08.306Z0:0</td>\n",
       "      <td>-77.4406</td>\n",
       "      <td>MIA</td>\n",
       "      <td>N905AN</td>\n",
       "      <td>2016-06-06T12:53:08.306Z</td>\n",
       "      <td>False</td>\n",
       "    </tr>\n",
       "    <tr>\n",
       "      <th>4</th>\n",
       "      <td>0</td>\n",
       "      <td>175.5390</td>\n",
       "      <td>-12.34440</td>\n",
       "      <td>4.0.4</td>\n",
       "      <td>6.4.0</td>\n",
       "      <td>AAL</td>\n",
       "      <td>AA</td>\n",
       "      <td>American Airlines</td>\n",
       "      <td>4764.6340</td>\n",
       "      <td>KMIA</td>\n",
       "      <td>...</td>\n",
       "      <td>AAL</td>\n",
       "      <td>AAL1359</td>\n",
       "      <td>1359</td>\n",
       "      <td>38.0951</td>\n",
       "      <td>2016-06-06T12:58:02.449Z0:0</td>\n",
       "      <td>-77.2936</td>\n",
       "      <td>MIA</td>\n",
       "      <td>N905AN</td>\n",
       "      <td>2016-06-06T12:58:02.449Z</td>\n",
       "      <td>False</td>\n",
       "    </tr>\n",
       "  </tbody>\n",
       "</table>\n",
       "<p>5 rows × 25 columns</p>\n",
       "</div>"
      ],
      "text/plain": [
       "   Unnamed: 0    HSpeed    VSpeed abpVersion acpuVersion airlineCode  \\\n",
       "0           0  256.5570  -0.77216      4.0.4       6.4.0         AAL   \n",
       "1           0  256.5570  -0.77216      4.0.4       6.4.0         AAL   \n",
       "2           0  232.5731  -4.78536      4.0.4       6.4.0         AAL   \n",
       "3           0  209.0393  -6.77672      4.0.4       6.4.0         AAL   \n",
       "4           0  175.5390 -12.34440      4.0.4       6.4.0         AAL   \n",
       "\n",
       "  airlineCodeIata        airlineName   altitude departureAirportCode  \\\n",
       "0              AA  American Airlines  9443.6180                 KMIA   \n",
       "1              AA  American Airlines  9443.6180                 KMIA   \n",
       "2              AA  American Airlines  7871.1553                 KMIA   \n",
       "3              AA  American Airlines  6322.4663                 KMIA   \n",
       "4              AA  American Airlines  4764.6340                 KMIA   \n",
       "\n",
       "      ...      flightNumberAlpha flightNumberInfo flightNumberNumeric  \\\n",
       "0     ...                    AAL          AAL1359                1359   \n",
       "1     ...                    AAL          AAL1359                1359   \n",
       "2     ...                    AAL          AAL1359                1359   \n",
       "3     ...                    AAL          AAL1359                1359   \n",
       "4     ...                    AAL          AAL1359                1359   \n",
       "\n",
       "  latitude                    localTime longitude origin  tailNumber  \\\n",
       "0  33.3140  2016-06-06T12:18:03.336Z0:0  -79.9612    MIA      N905AN   \n",
       "1  33.3140  2016-06-06T12:18:03.336Z0:0  -79.9612    MIA      N905AN   \n",
       "2  37.2739  2016-06-06T12:50:06.219Z0:0  -77.5992    MIA      N905AN   \n",
       "3  37.6186  2016-06-06T12:53:08.306Z0:0  -77.4406    MIA      N905AN   \n",
       "4  38.0951  2016-06-06T12:58:02.449Z0:0  -77.2936    MIA      N905AN   \n",
       "\n",
       "                    utcTime videoService  \n",
       "0  2016-06-06T12:18:03.336Z        False  \n",
       "1  2016-06-06T12:18:03.336Z        False  \n",
       "2  2016-06-06T12:50:06.219Z        False  \n",
       "3  2016-06-06T12:53:08.306Z        False  \n",
       "4  2016-06-06T12:58:02.449Z        False  \n",
       "\n",
       "[5 rows x 25 columns]"
      ]
     },
     "execution_count": 3,
     "metadata": {},
     "output_type": "execute_result"
    }
   ],
   "source": [
    "data"
   ]
  },
  {
   "cell_type": "code",
   "execution_count": 42,
   "metadata": {
    "collapsed": true
   },
   "outputs": [],
   "source": [
    "import os\n",
    "import us\n",
    "import requests, zipfile, StringIO\n",
    "import fiona\n",
    "import shapely\n",
    "\n",
    "def get_states():\n",
    "    contiguous = [state for state in us.states.STATES if state.is_contiguous]\n",
    "    shapefiles = [state.shapefile_urls()['state'] for state in contiguous]\n",
    "\n",
    "    return dict(zip(contiguous, shapefiles))\n",
    "\n",
    "def get_boundaries(states):\n",
    "    \"\"\"Takes in a dictionary with states and zip files, returns a dictionarty with states and boundaries\"\"\"\n",
    "    # Download zip file\n",
    "    # unzip it and open it with shapely\n",
    "    output = {}\n",
    "    for state, zip_file_url in states.iteritems():\n",
    "        path = '/tmp/%s' % state.name\n",
    "        if os.path.exists(path):\n",
    "            continue\n",
    "        r = requests.get(zip_file_url, stream=True)\n",
    "        z = zipfile.ZipFile(StringIO.StringIO(r.content))\n",
    "        z.extractall(path)\n",
    "        shapes = [x for x in z.namelist() if '.shp' in x]\n",
    "        shapefile = os.path.join(path, shapes[0])\n",
    "        geom = fiona.open(shapefile)\n",
    "        output[state.name] = geom.bounds\n",
    "        geom.close()\n",
    "    return output"
   ]
  },
  {
   "cell_type": "code",
   "execution_count": 19,
   "metadata": {
    "collapsed": false
   },
   "outputs": [],
   "source": [
    "states = get_boundaries(get_states())"
   ]
  },
  {
   "cell_type": "code",
   "execution_count": 61,
   "metadata": {
    "collapsed": false
   },
   "outputs": [],
   "source": [
    "def patches(states):\n",
    "    output = []\n",
    "    for state, bounds in states.iteritems():\n",
    "        min_lon, min_lat, max_lon, max_lat = bounds\n",
    "        state_data = data[(data.latitude < max_lat) & (data.latitude > min_lat) & (data.longitude > min_lon) & (data.longitude < max_lon)]\n",
    "        if len(state_data) > 0:\n",
    "            print state, len(state_data)\n",
    "            patch = PolygonPatch(shapely.geometry.box(*bounds), fc='#f7f7f7', ec='#cccccc', zorder=0)\n",
    "            output.append(patch)\n",
    "    return output"
   ]
  },
  {
   "cell_type": "code",
   "execution_count": 15,
   "metadata": {
    "collapsed": false
   },
   "outputs": [
    {
     "data": {
      "text/plain": [
       "(-116.050002, 44.358208999999995, -104.039138, 49.00139)"
      ]
     },
     "execution_count": 15,
     "metadata": {},
     "output_type": "execute_result"
    }
   ],
   "source": [
    "example.bounds"
   ]
  },
  {
   "cell_type": "code",
   "execution_count": 46,
   "metadata": {
    "collapsed": false
   },
   "outputs": [],
   "source": [
    "# magic command to display matplotlib plots inline within the ipython notebook webpage\n",
    "%matplotlib inline\n",
    "\n",
    "# import necessary modules\n",
    "import pandas as pd, numpy as np, matplotlib.pyplot as plt, matplotlib.font_manager as fm\n",
    "from time import time\n",
    "from shapely.geometry import Polygon, Point\n",
    "from geopandas import GeoDataFrame\n",
    "from descartes import PolygonPatch"
   ]
  },
  {
   "cell_type": "code",
   "execution_count": 47,
   "metadata": {
    "collapsed": true
   },
   "outputs": [],
   "source": [
    "# specify the fonts and background color for our map\n",
    "title_font = fm.FontProperties(family='Bitstream Vera Sans', style='normal', size=15, weight='normal', stretch='normal')\n",
    "annotation_font = fm.FontProperties(family='Bitstream Vera Sans', style='normal', size=10, weight='normal', stretch='normal')\n",
    "backgroundcolor = '#e4f4ff'"
   ]
  },
  {
   "cell_type": "code",
   "execution_count": 48,
   "metadata": {
    "collapsed": true
   },
   "outputs": [],
   "source": [
    "# create a geometry column in our point data set for geopandas to use\n",
    "data['geometry'] = data.apply(lambda row: Point(row['longitude'], row['latitude']), axis=1)"
   ]
  },
  {
   "cell_type": "code",
   "execution_count": 50,
   "metadata": {
    "collapsed": false
   },
   "outputs": [],
   "source": [
    "points = GeoDataFrame(data)"
   ]
  },
  {
   "cell_type": "code",
   "execution_count": 51,
   "metadata": {
    "collapsed": false
   },
   "outputs": [
    {
     "data": {
      "text/html": [
       "<div>\n",
       "<table border=\"1\" class=\"dataframe\">\n",
       "  <thead>\n",
       "    <tr style=\"text-align: right;\">\n",
       "      <th></th>\n",
       "      <th>Unnamed: 0</th>\n",
       "      <th>HSpeed</th>\n",
       "      <th>VSpeed</th>\n",
       "      <th>abpVersion</th>\n",
       "      <th>acpuVersion</th>\n",
       "      <th>airlineCode</th>\n",
       "      <th>airlineCodeIata</th>\n",
       "      <th>airlineName</th>\n",
       "      <th>altitude</th>\n",
       "      <th>departureAirportCode</th>\n",
       "      <th>...</th>\n",
       "      <th>flightNumberInfo</th>\n",
       "      <th>flightNumberNumeric</th>\n",
       "      <th>latitude</th>\n",
       "      <th>localTime</th>\n",
       "      <th>longitude</th>\n",
       "      <th>origin</th>\n",
       "      <th>tailNumber</th>\n",
       "      <th>utcTime</th>\n",
       "      <th>videoService</th>\n",
       "      <th>geometry</th>\n",
       "    </tr>\n",
       "  </thead>\n",
       "  <tbody>\n",
       "    <tr>\n",
       "      <th>0</th>\n",
       "      <td>0</td>\n",
       "      <td>256.5570</td>\n",
       "      <td>-0.77216</td>\n",
       "      <td>4.0.4</td>\n",
       "      <td>6.4.0</td>\n",
       "      <td>AAL</td>\n",
       "      <td>AA</td>\n",
       "      <td>American Airlines</td>\n",
       "      <td>9443.6180</td>\n",
       "      <td>KMIA</td>\n",
       "      <td>...</td>\n",
       "      <td>AAL1359</td>\n",
       "      <td>1359</td>\n",
       "      <td>33.3140</td>\n",
       "      <td>2016-06-06T12:18:03.336Z0:0</td>\n",
       "      <td>-79.9612</td>\n",
       "      <td>MIA</td>\n",
       "      <td>N905AN</td>\n",
       "      <td>2016-06-06T12:18:03.336Z</td>\n",
       "      <td>False</td>\n",
       "      <td>POINT (-79.96120000000001 33.314)</td>\n",
       "    </tr>\n",
       "    <tr>\n",
       "      <th>1</th>\n",
       "      <td>0</td>\n",
       "      <td>256.5570</td>\n",
       "      <td>-0.77216</td>\n",
       "      <td>4.0.4</td>\n",
       "      <td>6.4.0</td>\n",
       "      <td>AAL</td>\n",
       "      <td>AA</td>\n",
       "      <td>American Airlines</td>\n",
       "      <td>9443.6180</td>\n",
       "      <td>KMIA</td>\n",
       "      <td>...</td>\n",
       "      <td>AAL1359</td>\n",
       "      <td>1359</td>\n",
       "      <td>33.3140</td>\n",
       "      <td>2016-06-06T12:18:03.336Z0:0</td>\n",
       "      <td>-79.9612</td>\n",
       "      <td>MIA</td>\n",
       "      <td>N905AN</td>\n",
       "      <td>2016-06-06T12:18:03.336Z</td>\n",
       "      <td>False</td>\n",
       "      <td>POINT (-79.96120000000001 33.314)</td>\n",
       "    </tr>\n",
       "    <tr>\n",
       "      <th>2</th>\n",
       "      <td>0</td>\n",
       "      <td>232.5731</td>\n",
       "      <td>-4.78536</td>\n",
       "      <td>4.0.4</td>\n",
       "      <td>6.4.0</td>\n",
       "      <td>AAL</td>\n",
       "      <td>AA</td>\n",
       "      <td>American Airlines</td>\n",
       "      <td>7871.1553</td>\n",
       "      <td>KMIA</td>\n",
       "      <td>...</td>\n",
       "      <td>AAL1359</td>\n",
       "      <td>1359</td>\n",
       "      <td>37.2739</td>\n",
       "      <td>2016-06-06T12:50:06.219Z0:0</td>\n",
       "      <td>-77.5992</td>\n",
       "      <td>MIA</td>\n",
       "      <td>N905AN</td>\n",
       "      <td>2016-06-06T12:50:06.219Z</td>\n",
       "      <td>False</td>\n",
       "      <td>POINT (-77.5992 37.2739)</td>\n",
       "    </tr>\n",
       "    <tr>\n",
       "      <th>3</th>\n",
       "      <td>0</td>\n",
       "      <td>209.0393</td>\n",
       "      <td>-6.77672</td>\n",
       "      <td>4.0.4</td>\n",
       "      <td>6.4.0</td>\n",
       "      <td>AAL</td>\n",
       "      <td>AA</td>\n",
       "      <td>American Airlines</td>\n",
       "      <td>6322.4663</td>\n",
       "      <td>KMIA</td>\n",
       "      <td>...</td>\n",
       "      <td>AAL1359</td>\n",
       "      <td>1359</td>\n",
       "      <td>37.6186</td>\n",
       "      <td>2016-06-06T12:53:08.306Z0:0</td>\n",
       "      <td>-77.4406</td>\n",
       "      <td>MIA</td>\n",
       "      <td>N905AN</td>\n",
       "      <td>2016-06-06T12:53:08.306Z</td>\n",
       "      <td>False</td>\n",
       "      <td>POINT (-77.4406 37.6186)</td>\n",
       "    </tr>\n",
       "    <tr>\n",
       "      <th>4</th>\n",
       "      <td>0</td>\n",
       "      <td>175.5390</td>\n",
       "      <td>-12.34440</td>\n",
       "      <td>4.0.4</td>\n",
       "      <td>6.4.0</td>\n",
       "      <td>AAL</td>\n",
       "      <td>AA</td>\n",
       "      <td>American Airlines</td>\n",
       "      <td>4764.6340</td>\n",
       "      <td>KMIA</td>\n",
       "      <td>...</td>\n",
       "      <td>AAL1359</td>\n",
       "      <td>1359</td>\n",
       "      <td>38.0951</td>\n",
       "      <td>2016-06-06T12:58:02.449Z0:0</td>\n",
       "      <td>-77.2936</td>\n",
       "      <td>MIA</td>\n",
       "      <td>N905AN</td>\n",
       "      <td>2016-06-06T12:58:02.449Z</td>\n",
       "      <td>False</td>\n",
       "      <td>POINT (-77.2936 38.0951)</td>\n",
       "    </tr>\n",
       "  </tbody>\n",
       "</table>\n",
       "<p>5 rows × 26 columns</p>\n",
       "</div>"
      ],
      "text/plain": [
       "   Unnamed: 0    HSpeed    VSpeed abpVersion acpuVersion airlineCode  \\\n",
       "0           0  256.5570  -0.77216      4.0.4       6.4.0         AAL   \n",
       "1           0  256.5570  -0.77216      4.0.4       6.4.0         AAL   \n",
       "2           0  232.5731  -4.78536      4.0.4       6.4.0         AAL   \n",
       "3           0  209.0393  -6.77672      4.0.4       6.4.0         AAL   \n",
       "4           0  175.5390 -12.34440      4.0.4       6.4.0         AAL   \n",
       "\n",
       "  airlineCodeIata        airlineName   altitude departureAirportCode  \\\n",
       "0              AA  American Airlines  9443.6180                 KMIA   \n",
       "1              AA  American Airlines  9443.6180                 KMIA   \n",
       "2              AA  American Airlines  7871.1553                 KMIA   \n",
       "3              AA  American Airlines  6322.4663                 KMIA   \n",
       "4              AA  American Airlines  4764.6340                 KMIA   \n",
       "\n",
       "                 ...                 flightNumberInfo flightNumberNumeric  \\\n",
       "0                ...                          AAL1359                1359   \n",
       "1                ...                          AAL1359                1359   \n",
       "2                ...                          AAL1359                1359   \n",
       "3                ...                          AAL1359                1359   \n",
       "4                ...                          AAL1359                1359   \n",
       "\n",
       "  latitude                    localTime longitude origin tailNumber  \\\n",
       "0  33.3140  2016-06-06T12:18:03.336Z0:0  -79.9612    MIA     N905AN   \n",
       "1  33.3140  2016-06-06T12:18:03.336Z0:0  -79.9612    MIA     N905AN   \n",
       "2  37.2739  2016-06-06T12:50:06.219Z0:0  -77.5992    MIA     N905AN   \n",
       "3  37.6186  2016-06-06T12:53:08.306Z0:0  -77.4406    MIA     N905AN   \n",
       "4  38.0951  2016-06-06T12:58:02.449Z0:0  -77.2936    MIA     N905AN   \n",
       "\n",
       "                    utcTime  videoService                           geometry  \n",
       "0  2016-06-06T12:18:03.336Z         False  POINT (-79.96120000000001 33.314)  \n",
       "1  2016-06-06T12:18:03.336Z         False  POINT (-79.96120000000001 33.314)  \n",
       "2  2016-06-06T12:50:06.219Z         False           POINT (-77.5992 37.2739)  \n",
       "3  2016-06-06T12:53:08.306Z         False           POINT (-77.4406 37.6186)  \n",
       "4  2016-06-06T12:58:02.449Z         False           POINT (-77.2936 38.0951)  \n",
       "\n",
       "[5 rows x 26 columns]"
      ]
     },
     "execution_count": 51,
     "metadata": {},
     "output_type": "execute_result"
    }
   ],
   "source": [
    "# you must specify its original CRS to convert it to a different (projected) one later\n",
    "points.crs = {'datum':'WGS84', 'no_defs':True, 'proj':'aea', 'lat_1':35, 'lat_2':55, 'lat_0':45, 'lon_0':10}\n",
    "points.head()"
   ]
  },
  {
   "cell_type": "code",
   "execution_count": 58,
   "metadata": {
    "collapsed": true
   },
   "outputs": [],
   "source": [
    "# calculate some margin so our data doesn't go right up to the edges of the plotting figure\n",
    "x_margin_width = (points.bounds['maxx'].max() - points.bounds['minx'].min()) / 10\n",
    "y_margin_width = (points.bounds['maxy'].max() - points.bounds['miny'].min()) / 3\n",
    "\n",
    "# define the coordinates at the extent of our projected point data\n",
    "xlim = (points.bounds['minx'].min() - x_margin_width, points.bounds['maxx'].max() + x_margin_width)\n",
    "ylim = (points.bounds['miny'].min() - y_margin_width, points.bounds['maxy'].max() + y_margin_width)\n",
    "\n",
    "# create a rectangle from these coordinates\n",
    "spatial_extent = Polygon([(xlim[0], ylim[0]), \n",
    "                          (xlim[0], ylim[1]), \n",
    "                          (xlim[1], ylim[1]),\n",
    "                          (xlim[1], ylim[0])])\n",
    "\n",
    "# set dimensions in inches for the plotting figure size\n",
    "xdim = (xlim[1] - xlim[0]) / 400000\n",
    "ydim = (ylim[1] - ylim[0]) / 400000"
   ]
  },
  {
   "cell_type": "code",
   "execution_count": 65,
   "metadata": {
    "collapsed": false
   },
   "outputs": [
    {
     "data": {
      "text/plain": [
       "<matplotlib.axes.AxesSubplot at 0x10d614090>"
      ]
     },
     "execution_count": 65,
     "metadata": {},
     "output_type": "execute_result"
    },
    {
     "data": {
      "image/png": "[encoded data removed]",
      "text/plain": [
       "<matplotlib.figure.Figure at 0x10d68aa90>"
      ]
     },
     "metadata": {},
     "output_type": "display_data"
    }
   ],
   "source": [
    "points.plot()"
   ]
  },
  {
   "cell_type": "code",
   "execution_count": 72,
   "metadata": {
    "collapsed": false
   },
   "outputs": [
    {
     "ename": "RuntimeError",
     "evalue": "Error building image",
     "output_type": "error",
     "traceback": [
      "\u001b[0;31m---------------------------------------------------------------------------\u001b[0m",
      "\u001b[0;31mRuntimeError\u001b[0m                              Traceback (most recent call last)",
      "\u001b[0;32m/Users/x/.venvs/master/lib/python2.7/site-packages/IPython/core/formatters.pyc\u001b[0m in \u001b[0;36m__call__\u001b[0;34m(self, obj)\u001b[0m\n\u001b[1;32m    337\u001b[0m                 \u001b[0;32mpass\u001b[0m\u001b[0;34m\u001b[0m\u001b[0m\n\u001b[1;32m    338\u001b[0m             \u001b[0;32melse\u001b[0m\u001b[0;34m:\u001b[0m\u001b[0;34m\u001b[0m\u001b[0m\n\u001b[0;32m--> 339\u001b[0;31m                 \u001b[0;32mreturn\u001b[0m \u001b[0mprinter\u001b[0m\u001b[0;34m(\u001b[0m\u001b[0mobj\u001b[0m\u001b[0;34m)\u001b[0m\u001b[0;34m\u001b[0m\u001b[0m\n\u001b[0m\u001b[1;32m    340\u001b[0m             \u001b[0;31m# Finally look for special method names\u001b[0m\u001b[0;34m\u001b[0m\u001b[0;34m\u001b[0m\u001b[0m\n\u001b[1;32m    341\u001b[0m             \u001b[0mmethod\u001b[0m \u001b[0;34m=\u001b[0m \u001b[0m_safe_get_formatter_method\u001b[0m\u001b[0;34m(\u001b[0m\u001b[0mobj\u001b[0m\u001b[0;34m,\u001b[0m \u001b[0mself\u001b[0m\u001b[0;34m.\u001b[0m\u001b[0mprint_method\u001b[0m\u001b[0;34m)\u001b[0m\u001b[0;34m\u001b[0m\u001b[0m\n",
      "\u001b[0;32m/Users/x/.venvs/master/lib/python2.7/site-packages/IPython/core/pylabtools.pyc\u001b[0m in \u001b[0;36m<lambda>\u001b[0;34m(fig)\u001b[0m\n\u001b[1;32m    224\u001b[0m \u001b[0;34m\u001b[0m\u001b[0m\n\u001b[1;32m    225\u001b[0m     \u001b[0;32mif\u001b[0m \u001b[0;34m'png'\u001b[0m \u001b[0;32min\u001b[0m \u001b[0mformats\u001b[0m\u001b[0;34m:\u001b[0m\u001b[0;34m\u001b[0m\u001b[0m\n\u001b[0;32m--> 226\u001b[0;31m         \u001b[0mpng_formatter\u001b[0m\u001b[0;34m.\u001b[0m\u001b[0mfor_type\u001b[0m\u001b[0;34m(\u001b[0m\u001b[0mFigure\u001b[0m\u001b[0;34m,\u001b[0m \u001b[0;32mlambda\u001b[0m \u001b[0mfig\u001b[0m\u001b[0;34m:\u001b[0m \u001b[0mprint_figure\u001b[0m\u001b[0;34m(\u001b[0m\u001b[0mfig\u001b[0m\u001b[0;34m,\u001b[0m \u001b[0;34m'png'\u001b[0m\u001b[0;34m,\u001b[0m \u001b[0;34m**\u001b[0m\u001b[0mkwargs\u001b[0m\u001b[0;34m)\u001b[0m\u001b[0;34m)\u001b[0m\u001b[0;34m\u001b[0m\u001b[0m\n\u001b[0m\u001b[1;32m    227\u001b[0m     \u001b[0;32mif\u001b[0m \u001b[0;34m'retina'\u001b[0m \u001b[0;32min\u001b[0m \u001b[0mformats\u001b[0m \u001b[0;32mor\u001b[0m \u001b[0;34m'png2x'\u001b[0m \u001b[0;32min\u001b[0m \u001b[0mformats\u001b[0m\u001b[0;34m:\u001b[0m\u001b[0;34m\u001b[0m\u001b[0m\n\u001b[1;32m    228\u001b[0m         \u001b[0mpng_formatter\u001b[0m\u001b[0;34m.\u001b[0m\u001b[0mfor_type\u001b[0m\u001b[0;34m(\u001b[0m\u001b[0mFigure\u001b[0m\u001b[0;34m,\u001b[0m \u001b[0;32mlambda\u001b[0m \u001b[0mfig\u001b[0m\u001b[0;34m:\u001b[0m \u001b[0mretina_figure\u001b[0m\u001b[0;34m(\u001b[0m\u001b[0mfig\u001b[0m\u001b[0;34m,\u001b[0m \u001b[0;34m**\u001b[0m\u001b[0mkwargs\u001b[0m\u001b[0;34m)\u001b[0m\u001b[0;34m)\u001b[0m\u001b[0;34m\u001b[0m\u001b[0m\n",
      "\u001b[0;32m/Users/x/.venvs/master/lib/python2.7/site-packages/IPython/core/pylabtools.pyc\u001b[0m in \u001b[0;36mprint_figure\u001b[0;34m(fig, fmt, bbox_inches, **kwargs)\u001b[0m\n\u001b[1;32m    115\u001b[0m \u001b[0;34m\u001b[0m\u001b[0m\n\u001b[1;32m    116\u001b[0m     \u001b[0mbytes_io\u001b[0m \u001b[0;34m=\u001b[0m \u001b[0mBytesIO\u001b[0m\u001b[0;34m(\u001b[0m\u001b[0;34m)\u001b[0m\u001b[0;34m\u001b[0m\u001b[0m\n\u001b[0;32m--> 117\u001b[0;31m     \u001b[0mfig\u001b[0m\u001b[0;34m.\u001b[0m\u001b[0mcanvas\u001b[0m\u001b[0;34m.\u001b[0m\u001b[0mprint_figure\u001b[0m\u001b[0;34m(\u001b[0m\u001b[0mbytes_io\u001b[0m\u001b[0;34m,\u001b[0m \u001b[0;34m**\u001b[0m\u001b[0mkw\u001b[0m\u001b[0;34m)\u001b[0m\u001b[0;34m\u001b[0m\u001b[0m\n\u001b[0m\u001b[1;32m    118\u001b[0m     \u001b[0mdata\u001b[0m \u001b[0;34m=\u001b[0m \u001b[0mbytes_io\u001b[0m\u001b[0;34m.\u001b[0m\u001b[0mgetvalue\u001b[0m\u001b[0;34m(\u001b[0m\u001b[0;34m)\u001b[0m\u001b[0;34m\u001b[0m\u001b[0m\n\u001b[1;32m    119\u001b[0m     \u001b[0;32mif\u001b[0m \u001b[0mfmt\u001b[0m \u001b[0;34m==\u001b[0m \u001b[0;34m'svg'\u001b[0m\u001b[0;34m:\u001b[0m\u001b[0;34m\u001b[0m\u001b[0m\n",
      "\u001b[0;32m/System/Library/Frameworks/Python.framework/Versions/2.7/Extras/lib/python/matplotlib/backend_bases.pyc\u001b[0m in \u001b[0;36mprint_figure\u001b[0;34m(self, filename, dpi, facecolor, edgecolor, orientation, format, **kwargs)\u001b[0m\n\u001b[1;32m   2165\u001b[0m                     \u001b[0morientation\u001b[0m\u001b[0;34m=\u001b[0m\u001b[0morientation\u001b[0m\u001b[0;34m,\u001b[0m\u001b[0;34m\u001b[0m\u001b[0m\n\u001b[1;32m   2166\u001b[0m                     \u001b[0mdryrun\u001b[0m\u001b[0;34m=\u001b[0m\u001b[0mTrue\u001b[0m\u001b[0;34m,\u001b[0m\u001b[0;34m\u001b[0m\u001b[0m\n\u001b[0;32m-> 2167\u001b[0;31m                     **kwargs)\n\u001b[0m\u001b[1;32m   2168\u001b[0m                 \u001b[0mrenderer\u001b[0m \u001b[0;34m=\u001b[0m \u001b[0mself\u001b[0m\u001b[0;34m.\u001b[0m\u001b[0mfigure\u001b[0m\u001b[0;34m.\u001b[0m\u001b[0m_cachedRenderer\u001b[0m\u001b[0;34m\u001b[0m\u001b[0m\n\u001b[1;32m   2169\u001b[0m                 \u001b[0mbbox_inches\u001b[0m \u001b[0;34m=\u001b[0m \u001b[0mself\u001b[0m\u001b[0;34m.\u001b[0m\u001b[0mfigure\u001b[0m\u001b[0;34m.\u001b[0m\u001b[0mget_tightbbox\u001b[0m\u001b[0;34m(\u001b[0m\u001b[0mrenderer\u001b[0m\u001b[0;34m)\u001b[0m\u001b[0;34m\u001b[0m\u001b[0m\n",
      "\u001b[0;32m/System/Library/Frameworks/Python.framework/Versions/2.7/Extras/lib/python/matplotlib/backends/backend_agg.pyc\u001b[0m in \u001b[0;36mprint_png\u001b[0;34m(self, filename_or_obj, *args, **kwargs)\u001b[0m\n\u001b[1;32m    515\u001b[0m             _png.write_png(renderer._renderer.buffer_rgba(),\n\u001b[1;32m    516\u001b[0m                            \u001b[0mrenderer\u001b[0m\u001b[0;34m.\u001b[0m\u001b[0mwidth\u001b[0m\u001b[0;34m,\u001b[0m \u001b[0mrenderer\u001b[0m\u001b[0;34m.\u001b[0m\u001b[0mheight\u001b[0m\u001b[0;34m,\u001b[0m\u001b[0;34m\u001b[0m\u001b[0m\n\u001b[0;32m--> 517\u001b[0;31m                            filename_or_obj, self.figure.dpi)\n\u001b[0m\u001b[1;32m    518\u001b[0m         \u001b[0;32mfinally\u001b[0m\u001b[0;34m:\u001b[0m\u001b[0;34m\u001b[0m\u001b[0m\n\u001b[1;32m    519\u001b[0m             \u001b[0;32mif\u001b[0m \u001b[0mclose\u001b[0m\u001b[0;34m:\u001b[0m\u001b[0;34m\u001b[0m\u001b[0m\n",
      "\u001b[0;31mRuntimeError\u001b[0m: Error building image"
     ]
    },
    {
     "data": {
      "text/plain": [
       "<matplotlib.figure.Figure at 0x10d598f90>"
      ]
     },
     "metadata": {},
     "output_type": "display_data"
    }
   ],
   "source": [
    "# create a figure, axis, and set the background color\n",
    "fig2 = plt.figure(figsize=(xdim, ydim))\n",
    "ax = fig2.add_subplot(111)\n",
    "ax.set_axis_bgcolor(backgroundcolor)\n",
    "\n",
    "# add each patch we extracted from the GeoDataFrame's geometry column to the axis\n",
    "#for patch in patches(states):\n",
    "#    ax.add_patch(patch)\n",
    "\n",
    "# add the projected point data to the axis as a scatter plot\n",
    "#points_scatter = ax.scatter(x=points['longitude'], y=points['latitude'], c='m', alpha=0.4, s=100)\n",
    "\n",
    "#ax.set_title('Projected shapefile and GPS coordinates', fontproperties=title_font)\n",
    "\n",
    "# set the axes limits\n",
    "ax.set_xlim(xlim)\n",
    "ax.set_ylim(ylim)\n",
    "\n",
    "# remove the tickmarks as these are projected geometries, the ticks are confusing northings/eastings\n",
    "ax.set_xticks([])\n",
    "ax.set_yticks([])\n",
    "\n",
    "plt.show()"
   ]
  },
  {
   "cell_type": "code",
   "execution_count": null,
   "metadata": {
    "collapsed": true
   },
   "outputs": [],
   "source": []
  }
 ],
 "metadata": {
  "kernelspec": {
   "display_name": "Python 2",
   "language": "python",
   "name": "python2"
  },
  "language_info": {
   "codemirror_mode": {
    "name": "ipython",
    "version": 2
   },
   "file_extension": ".py",
   "mimetype": "text/x-python",
   "name": "python",
   "nbconvert_exporter": "python",
   "pygments_lexer": "ipython2",
   "version": "2.7.10"
  }
 },
 "nbformat": 4,
 "nbformat_minor": 0
}
